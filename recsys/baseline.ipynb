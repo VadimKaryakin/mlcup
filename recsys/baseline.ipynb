{
  "nbformat": 4,
  "nbformat_minor": 5,
  "metadata": {
    "jupytercloud": {
      "vault": {
        "secrets": [
          {
            "name": "yt_secrets",
            "uuid": "sec-01fd5qjpw0xwwpv6t83wc41tp8"
          }
        ]
      }
    },
    "kernelspec": {
      "display_name": "base",
      "language": "python",
      "name": "base"
    },
    "language_info": {
      "codemirror_mode": {
        "name": "ipython",
        "version": 3
      },
      "file_extension": ".py",
      "mimetype": "text/x-python",
      "name": "python",
      "nbconvert_exporter": "python",
      "pygments_lexer": "ipython3",
      "version": "3.9.5"
    },
    "colab": {
      "name": "baseline.ipynb",
      "provenance": [],
      "include_colab_link": true
    },
    "accelerator": "GPU",
    "widgets": {
      "application/vnd.jupyter.widget-state+json": {
        "1a6238e2d68a49f69d0e8c2fb66f4f71": {
          "model_module": "@jupyter-widgets/controls",
          "model_name": "HBoxModel",
          "model_module_version": "1.5.0",
          "state": {
            "_view_name": "HBoxView",
            "_dom_classes": [],
            "_model_name": "HBoxModel",
            "_view_module": "@jupyter-widgets/controls",
            "_model_module_version": "1.5.0",
            "_view_count": null,
            "_view_module_version": "1.5.0",
            "box_style": "",
            "layout": "IPY_MODEL_091e3e2821934f33bdb5dc8182d98420",
            "_model_module": "@jupyter-widgets/controls",
            "children": [
              "IPY_MODEL_ea1a98796fe241a7af6d71b881e13db6",
              "IPY_MODEL_f6446f27ac524ebb801a50dbc8720856",
              "IPY_MODEL_03c4a4093b5f45f0a897552cb8df6e67"
            ]
          }
        },
        "091e3e2821934f33bdb5dc8182d98420": {
          "model_module": "@jupyter-widgets/base",
          "model_name": "LayoutModel",
          "model_module_version": "1.2.0",
          "state": {
            "_view_name": "LayoutView",
            "grid_template_rows": null,
            "right": null,
            "justify_content": null,
            "_view_module": "@jupyter-widgets/base",
            "overflow": null,
            "_model_module_version": "1.2.0",
            "_view_count": null,
            "flex_flow": null,
            "width": null,
            "min_width": null,
            "border": null,
            "align_items": null,
            "bottom": null,
            "_model_module": "@jupyter-widgets/base",
            "top": null,
            "grid_column": null,
            "overflow_y": null,
            "overflow_x": null,
            "grid_auto_flow": null,
            "grid_area": null,
            "grid_template_columns": null,
            "flex": null,
            "_model_name": "LayoutModel",
            "justify_items": null,
            "grid_row": null,
            "max_height": null,
            "align_content": null,
            "visibility": null,
            "align_self": null,
            "height": null,
            "min_height": null,
            "padding": null,
            "grid_auto_rows": null,
            "grid_gap": null,
            "max_width": null,
            "order": null,
            "_view_module_version": "1.2.0",
            "grid_template_areas": null,
            "object_position": null,
            "object_fit": null,
            "grid_auto_columns": null,
            "margin": null,
            "display": null,
            "left": null
          }
        },
        "ea1a98796fe241a7af6d71b881e13db6": {
          "model_module": "@jupyter-widgets/controls",
          "model_name": "HTMLModel",
          "model_module_version": "1.5.0",
          "state": {
            "_view_name": "HTMLView",
            "style": "IPY_MODEL_787f1c6385004f97ba8d9299071fca08",
            "_dom_classes": [],
            "description": "",
            "_model_name": "HTMLModel",
            "placeholder": "​",
            "_view_module": "@jupyter-widgets/controls",
            "_model_module_version": "1.5.0",
            "value": "100%",
            "_view_count": null,
            "_view_module_version": "1.5.0",
            "description_tooltip": null,
            "_model_module": "@jupyter-widgets/controls",
            "layout": "IPY_MODEL_665622bcb7ca4264a415de224f48abf7"
          }
        },
        "f6446f27ac524ebb801a50dbc8720856": {
          "model_module": "@jupyter-widgets/controls",
          "model_name": "FloatProgressModel",
          "model_module_version": "1.5.0",
          "state": {
            "_view_name": "ProgressView",
            "style": "IPY_MODEL_2a4b955f0b1944958e8bca200c3ce118",
            "_dom_classes": [],
            "description": "",
            "_model_name": "FloatProgressModel",
            "bar_style": "success",
            "max": 75,
            "_view_module": "@jupyter-widgets/controls",
            "_model_module_version": "1.5.0",
            "value": 75,
            "_view_count": null,
            "_view_module_version": "1.5.0",
            "orientation": "horizontal",
            "min": 0,
            "description_tooltip": null,
            "_model_module": "@jupyter-widgets/controls",
            "layout": "IPY_MODEL_13f945a4a89c4b74a3ec0d38325f324e"
          }
        },
        "03c4a4093b5f45f0a897552cb8df6e67": {
          "model_module": "@jupyter-widgets/controls",
          "model_name": "HTMLModel",
          "model_module_version": "1.5.0",
          "state": {
            "_view_name": "HTMLView",
            "style": "IPY_MODEL_7380a6fe9e12480ba2c4aa19d4a22c0a",
            "_dom_classes": [],
            "description": "",
            "_model_name": "HTMLModel",
            "placeholder": "​",
            "_view_module": "@jupyter-widgets/controls",
            "_model_module_version": "1.5.0",
            "value": " 75/75 [00:00&lt;00:00, 841.27it/s]",
            "_view_count": null,
            "_view_module_version": "1.5.0",
            "description_tooltip": null,
            "_model_module": "@jupyter-widgets/controls",
            "layout": "IPY_MODEL_98e137bdf4564852b8248be14e31447a"
          }
        },
        "787f1c6385004f97ba8d9299071fca08": {
          "model_module": "@jupyter-widgets/controls",
          "model_name": "DescriptionStyleModel",
          "model_module_version": "1.5.0",
          "state": {
            "_view_name": "StyleView",
            "_model_name": "DescriptionStyleModel",
            "description_width": "",
            "_view_module": "@jupyter-widgets/base",
            "_model_module_version": "1.5.0",
            "_view_count": null,
            "_view_module_version": "1.2.0",
            "_model_module": "@jupyter-widgets/controls"
          }
        },
        "665622bcb7ca4264a415de224f48abf7": {
          "model_module": "@jupyter-widgets/base",
          "model_name": "LayoutModel",
          "model_module_version": "1.2.0",
          "state": {
            "_view_name": "LayoutView",
            "grid_template_rows": null,
            "right": null,
            "justify_content": null,
            "_view_module": "@jupyter-widgets/base",
            "overflow": null,
            "_model_module_version": "1.2.0",
            "_view_count": null,
            "flex_flow": null,
            "width": null,
            "min_width": null,
            "border": null,
            "align_items": null,
            "bottom": null,
            "_model_module": "@jupyter-widgets/base",
            "top": null,
            "grid_column": null,
            "overflow_y": null,
            "overflow_x": null,
            "grid_auto_flow": null,
            "grid_area": null,
            "grid_template_columns": null,
            "flex": null,
            "_model_name": "LayoutModel",
            "justify_items": null,
            "grid_row": null,
            "max_height": null,
            "align_content": null,
            "visibility": null,
            "align_self": null,
            "height": null,
            "min_height": null,
            "padding": null,
            "grid_auto_rows": null,
            "grid_gap": null,
            "max_width": null,
            "order": null,
            "_view_module_version": "1.2.0",
            "grid_template_areas": null,
            "object_position": null,
            "object_fit": null,
            "grid_auto_columns": null,
            "margin": null,
            "display": null,
            "left": null
          }
        },
        "2a4b955f0b1944958e8bca200c3ce118": {
          "model_module": "@jupyter-widgets/controls",
          "model_name": "ProgressStyleModel",
          "model_module_version": "1.5.0",
          "state": {
            "_view_name": "StyleView",
            "_model_name": "ProgressStyleModel",
            "description_width": "",
            "_view_module": "@jupyter-widgets/base",
            "_model_module_version": "1.5.0",
            "_view_count": null,
            "_view_module_version": "1.2.0",
            "bar_color": null,
            "_model_module": "@jupyter-widgets/controls"
          }
        },
        "13f945a4a89c4b74a3ec0d38325f324e": {
          "model_module": "@jupyter-widgets/base",
          "model_name": "LayoutModel",
          "model_module_version": "1.2.0",
          "state": {
            "_view_name": "LayoutView",
            "grid_template_rows": null,
            "right": null,
            "justify_content": null,
            "_view_module": "@jupyter-widgets/base",
            "overflow": null,
            "_model_module_version": "1.2.0",
            "_view_count": null,
            "flex_flow": null,
            "width": null,
            "min_width": null,
            "border": null,
            "align_items": null,
            "bottom": null,
            "_model_module": "@jupyter-widgets/base",
            "top": null,
            "grid_column": null,
            "overflow_y": null,
            "overflow_x": null,
            "grid_auto_flow": null,
            "grid_area": null,
            "grid_template_columns": null,
            "flex": null,
            "_model_name": "LayoutModel",
            "justify_items": null,
            "grid_row": null,
            "max_height": null,
            "align_content": null,
            "visibility": null,
            "align_self": null,
            "height": null,
            "min_height": null,
            "padding": null,
            "grid_auto_rows": null,
            "grid_gap": null,
            "max_width": null,
            "order": null,
            "_view_module_version": "1.2.0",
            "grid_template_areas": null,
            "object_position": null,
            "object_fit": null,
            "grid_auto_columns": null,
            "margin": null,
            "display": null,
            "left": null
          }
        },
        "7380a6fe9e12480ba2c4aa19d4a22c0a": {
          "model_module": "@jupyter-widgets/controls",
          "model_name": "DescriptionStyleModel",
          "model_module_version": "1.5.0",
          "state": {
            "_view_name": "StyleView",
            "_model_name": "DescriptionStyleModel",
            "description_width": "",
            "_view_module": "@jupyter-widgets/base",
            "_model_module_version": "1.5.0",
            "_view_count": null,
            "_view_module_version": "1.2.0",
            "_model_module": "@jupyter-widgets/controls"
          }
        },
        "98e137bdf4564852b8248be14e31447a": {
          "model_module": "@jupyter-widgets/base",
          "model_name": "LayoutModel",
          "model_module_version": "1.2.0",
          "state": {
            "_view_name": "LayoutView",
            "grid_template_rows": null,
            "right": null,
            "justify_content": null,
            "_view_module": "@jupyter-widgets/base",
            "overflow": null,
            "_model_module_version": "1.2.0",
            "_view_count": null,
            "flex_flow": null,
            "width": null,
            "min_width": null,
            "border": null,
            "align_items": null,
            "bottom": null,
            "_model_module": "@jupyter-widgets/base",
            "top": null,
            "grid_column": null,
            "overflow_y": null,
            "overflow_x": null,
            "grid_auto_flow": null,
            "grid_area": null,
            "grid_template_columns": null,
            "flex": null,
            "_model_name": "LayoutModel",
            "justify_items": null,
            "grid_row": null,
            "max_height": null,
            "align_content": null,
            "visibility": null,
            "align_self": null,
            "height": null,
            "min_height": null,
            "padding": null,
            "grid_auto_rows": null,
            "grid_gap": null,
            "max_width": null,
            "order": null,
            "_view_module_version": "1.2.0",
            "grid_template_areas": null,
            "object_position": null,
            "object_fit": null,
            "grid_auto_columns": null,
            "margin": null,
            "display": null,
            "left": null
          }
        }
      }
    }
  },
  "cells": [
    {
      "cell_type": "markdown",
      "metadata": {
        "id": "view-in-github",
        "colab_type": "text"
      },
      "source": [
        "<a href=\"https://colab.research.google.com/github/VadimKaryakin/mlcup/blob/main/recsys/baseline.ipynb\" target=\"_parent\"><img src=\"https://colab.research.google.com/assets/colab-badge.svg\" alt=\"Open In Colab\"/></a>"
      ]
    },
    {
      "cell_type": "code",
      "metadata": {
        "id": "c5e8e001"
      },
      "source": [
        "import numpy as np\n",
        "import pandas as pd\n",
        "\n",
        "import matplotlib.pyplot as plt\n",
        "import seaborn as sns\n",
        "\n",
        "from scipy import sparse\n",
        "from tqdm.notebook import tqdm\n",
        "\n",
        "%matplotlib inline"
      ],
      "id": "c5e8e001",
      "execution_count": 2,
      "outputs": []
    },
    {
      "cell_type": "markdown",
      "metadata": {
        "id": "440a6b1e"
      },
      "source": [
        "# Сырые данные"
      ],
      "id": "440a6b1e"
    },
    {
      "cell_type": "markdown",
      "metadata": {
        "id": "9735fba5"
      },
      "source": [
        "## Считываем данные из .csv"
      ],
      "id": "9735fba5"
    },
    {
      "cell_type": "markdown",
      "metadata": {
        "id": "971fd078"
      },
      "source": [
        "Некоторые данные (такие как рубрики и признаки), представлены строками значений. Преобразуем их в списки чисел. "
      ],
      "id": "971fd078"
    },
    {
      "cell_type": "code",
      "metadata": {
        "id": "31c74a98"
      },
      "source": [
        "to_list = lambda rubrics: [int(rubric) for rubric in str(rubrics).split(' ')]\n",
        "def apply_to_columns(df, columns, func=to_list):\n",
        "    for column in columns:\n",
        "        df.loc[~df[column].isnull(), column] = df.loc[~df[column].isnull(), column].apply(func)"
      ],
      "id": "31c74a98",
      "execution_count": 3,
      "outputs": []
    },
    {
      "cell_type": "markdown",
      "metadata": {
        "id": "d9530423"
      },
      "source": [
        "В первую очередь нам понадобятся данные по __пользователям__, __организациям__ и сами __отзывы__. "
      ],
      "id": "d9530423"
    },
    {
      "cell_type": "code",
      "metadata": {
        "id": "b9065246",
        "outputId": "c80aacb3-d23f-4f52-dd23-803c09de890d",
        "colab": {
          "base_uri": "https://localhost:8080/",
          "height": 204
        }
      },
      "source": [
        "users = pd.read_csv('/content/drive/MyDrive/YCup2021[recsys]/users.csv')\n",
        "users.head()"
      ],
      "id": "b9065246",
      "execution_count": 4,
      "outputs": [
        {
          "output_type": "execute_result",
          "data": {
            "text/html": [
              "<div>\n",
              "<style scoped>\n",
              "    .dataframe tbody tr th:only-of-type {\n",
              "        vertical-align: middle;\n",
              "    }\n",
              "\n",
              "    .dataframe tbody tr th {\n",
              "        vertical-align: top;\n",
              "    }\n",
              "\n",
              "    .dataframe thead th {\n",
              "        text-align: right;\n",
              "    }\n",
              "</style>\n",
              "<table border=\"1\" class=\"dataframe\">\n",
              "  <thead>\n",
              "    <tr style=\"text-align: right;\">\n",
              "      <th></th>\n",
              "      <th>user_id</th>\n",
              "      <th>city</th>\n",
              "    </tr>\n",
              "  </thead>\n",
              "  <tbody>\n",
              "    <tr>\n",
              "      <th>0</th>\n",
              "      <td>523295021912509756</td>\n",
              "      <td>msk</td>\n",
              "    </tr>\n",
              "    <tr>\n",
              "      <th>1</th>\n",
              "      <td>11952159487361099606</td>\n",
              "      <td>msk</td>\n",
              "    </tr>\n",
              "    <tr>\n",
              "      <th>2</th>\n",
              "      <td>16879036589969590999</td>\n",
              "      <td>msk</td>\n",
              "    </tr>\n",
              "    <tr>\n",
              "      <th>3</th>\n",
              "      <td>12791716990148606332</td>\n",
              "      <td>msk</td>\n",
              "    </tr>\n",
              "    <tr>\n",
              "      <th>4</th>\n",
              "      <td>11642393216024958726</td>\n",
              "      <td>msk</td>\n",
              "    </tr>\n",
              "  </tbody>\n",
              "</table>\n",
              "</div>"
            ],
            "text/plain": [
              "                user_id city\n",
              "0    523295021912509756  msk\n",
              "1  11952159487361099606  msk\n",
              "2  16879036589969590999  msk\n",
              "3  12791716990148606332  msk\n",
              "4  11642393216024958726  msk"
            ]
          },
          "metadata": {},
          "execution_count": 4
        }
      ]
    },
    {
      "cell_type": "code",
      "metadata": {
        "id": "7206202b",
        "outputId": "8dec9ada-157f-4c51-96cc-064edafd2417",
        "colab": {
          "base_uri": "https://localhost:8080/",
          "height": 204
        }
      },
      "source": [
        "orgs = pd.read_csv('/content/drive/MyDrive/YCup2021[recsys]/organisations.csv')\n",
        "\n",
        "# create lists\n",
        "columns = ['rubrics_id', 'features_id']\n",
        "apply_to_columns(orgs, columns)\n",
        "\n",
        "orgs.head()"
      ],
      "id": "7206202b",
      "execution_count": 5,
      "outputs": [
        {
          "output_type": "execute_result",
          "data": {
            "text/html": [
              "<div>\n",
              "<style scoped>\n",
              "    .dataframe tbody tr th:only-of-type {\n",
              "        vertical-align: middle;\n",
              "    }\n",
              "\n",
              "    .dataframe tbody tr th {\n",
              "        vertical-align: top;\n",
              "    }\n",
              "\n",
              "    .dataframe thead th {\n",
              "        text-align: right;\n",
              "    }\n",
              "</style>\n",
              "<table border=\"1\" class=\"dataframe\">\n",
              "  <thead>\n",
              "    <tr style=\"text-align: right;\">\n",
              "      <th></th>\n",
              "      <th>org_id</th>\n",
              "      <th>city</th>\n",
              "      <th>average_bill</th>\n",
              "      <th>rating</th>\n",
              "      <th>rubrics_id</th>\n",
              "      <th>features_id</th>\n",
              "    </tr>\n",
              "  </thead>\n",
              "  <tbody>\n",
              "    <tr>\n",
              "      <th>0</th>\n",
              "      <td>16848414477362211020</td>\n",
              "      <td>spb</td>\n",
              "      <td>1000.0</td>\n",
              "      <td>4.479702</td>\n",
              "      <td>[30776, 31375]</td>\n",
              "      <td>[1018, 1509, 11177, 11617, 11629, 11704, 11867...</td>\n",
              "    </tr>\n",
              "    <tr>\n",
              "      <th>1</th>\n",
              "      <td>1430604733320164116</td>\n",
              "      <td>spb</td>\n",
              "      <td>1000.0</td>\n",
              "      <td>4.514509</td>\n",
              "      <td>[30776, 30770]</td>\n",
              "      <td>[246, 1018, 11617, 11629, 11704, 11867, 20422,...</td>\n",
              "    </tr>\n",
              "    <tr>\n",
              "      <th>2</th>\n",
              "      <td>9880309324224147401</td>\n",
              "      <td>spb</td>\n",
              "      <td>1000.0</td>\n",
              "      <td>3.884615</td>\n",
              "      <td>[30770, 30774]</td>\n",
              "      <td>[1018, 11177, 11617, 11629, 11704, 11867, 2042...</td>\n",
              "    </tr>\n",
              "    <tr>\n",
              "      <th>3</th>\n",
              "      <td>5617879987171966456</td>\n",
              "      <td>spb</td>\n",
              "      <td>1000.0</td>\n",
              "      <td>NaN</td>\n",
              "      <td>[30774, 30775]</td>\n",
              "      <td>[1018, 1509, 10596, 11177, 11629, 11634, 11704...</td>\n",
              "    </tr>\n",
              "    <tr>\n",
              "      <th>4</th>\n",
              "      <td>5241461680470612149</td>\n",
              "      <td>spb</td>\n",
              "      <td>1000.0</td>\n",
              "      <td>4.532468</td>\n",
              "      <td>[30776]</td>\n",
              "      <td>[1018, 11177, 11617, 11629, 11704, 11867, 2042...</td>\n",
              "    </tr>\n",
              "  </tbody>\n",
              "</table>\n",
              "</div>"
            ],
            "text/plain": [
              "                 org_id  ...                                        features_id\n",
              "0  16848414477362211020  ...  [1018, 1509, 11177, 11617, 11629, 11704, 11867...\n",
              "1   1430604733320164116  ...  [246, 1018, 11617, 11629, 11704, 11867, 20422,...\n",
              "2   9880309324224147401  ...  [1018, 11177, 11617, 11629, 11704, 11867, 2042...\n",
              "3   5617879987171966456  ...  [1018, 1509, 10596, 11177, 11629, 11634, 11704...\n",
              "4   5241461680470612149  ...  [1018, 11177, 11617, 11629, 11704, 11867, 2042...\n",
              "\n",
              "[5 rows x 6 columns]"
            ]
          },
          "metadata": {},
          "execution_count": 5
        }
      ]
    },
    {
      "cell_type": "markdown",
      "metadata": {
        "id": "986f5217"
      },
      "source": [
        "Чтобы не делать __join__ каждый раз, когда нам потребуется узнать, из какого города организация или пользователь, сразу добавим эту информацию в отзывы."
      ],
      "id": "986f5217"
    },
    {
      "cell_type": "code",
      "metadata": {
        "id": "02da292f",
        "outputId": "8d7d0d0d-2493-4e9a-d35e-000c18a67d80",
        "colab": {
          "base_uri": "https://localhost:8080/",
          "height": 204
        }
      },
      "source": [
        "reviews = pd.read_csv('/content/drive/MyDrive/YCup2021[recsys]/reviews.csv', low_memory=False)\n",
        "\n",
        "# encode users ids as numeric\n",
        "reviews = reviews.merge(users, on='user_id')\n",
        "reviews = reviews.rename({'city': 'user_city'}, axis=1)\n",
        "\n",
        "# # encode orgs ids as numeric\n",
        "reviews = reviews.merge(orgs[['org_id', 'city']], on='org_id')\n",
        "reviews = reviews.rename({'city': 'org_city'}, axis=1)\n",
        "\n",
        "# # create lists\n",
        "columns = ['aspects']\n",
        "apply_to_columns(reviews, columns)\n",
        "\n",
        "reviews.head()"
      ],
      "id": "02da292f",
      "execution_count": 6,
      "outputs": [
        {
          "output_type": "execute_result",
          "data": {
            "text/html": [
              "<div>\n",
              "<style scoped>\n",
              "    .dataframe tbody tr th:only-of-type {\n",
              "        vertical-align: middle;\n",
              "    }\n",
              "\n",
              "    .dataframe tbody tr th {\n",
              "        vertical-align: top;\n",
              "    }\n",
              "\n",
              "    .dataframe thead th {\n",
              "        text-align: right;\n",
              "    }\n",
              "</style>\n",
              "<table border=\"1\" class=\"dataframe\">\n",
              "  <thead>\n",
              "    <tr style=\"text-align: right;\">\n",
              "      <th></th>\n",
              "      <th>user_id</th>\n",
              "      <th>org_id</th>\n",
              "      <th>rating</th>\n",
              "      <th>ts</th>\n",
              "      <th>aspects</th>\n",
              "      <th>user_city</th>\n",
              "      <th>org_city</th>\n",
              "    </tr>\n",
              "  </thead>\n",
              "  <tbody>\n",
              "    <tr>\n",
              "      <th>0</th>\n",
              "      <td>16998268288908323644</td>\n",
              "      <td>7184895086928047809</td>\n",
              "      <td>2.0</td>\n",
              "      <td>105</td>\n",
              "      <td>NaN</td>\n",
              "      <td>msk</td>\n",
              "      <td>msk</td>\n",
              "    </tr>\n",
              "    <tr>\n",
              "      <th>1</th>\n",
              "      <td>3121447338909258868</td>\n",
              "      <td>7184895086928047809</td>\n",
              "      <td>5.0</td>\n",
              "      <td>464</td>\n",
              "      <td>NaN</td>\n",
              "      <td>msk</td>\n",
              "      <td>msk</td>\n",
              "    </tr>\n",
              "    <tr>\n",
              "      <th>2</th>\n",
              "      <td>1970649778250883025</td>\n",
              "      <td>7184895086928047809</td>\n",
              "      <td>3.0</td>\n",
              "      <td>789</td>\n",
              "      <td>NaN</td>\n",
              "      <td>msk</td>\n",
              "      <td>msk</td>\n",
              "    </tr>\n",
              "    <tr>\n",
              "      <th>3</th>\n",
              "      <td>7554889464530643866</td>\n",
              "      <td>7184895086928047809</td>\n",
              "      <td>4.0</td>\n",
              "      <td>936</td>\n",
              "      <td>NaN</td>\n",
              "      <td>msk</td>\n",
              "      <td>msk</td>\n",
              "    </tr>\n",
              "    <tr>\n",
              "      <th>4</th>\n",
              "      <td>15907910894057053620</td>\n",
              "      <td>7184895086928047809</td>\n",
              "      <td>1.0</td>\n",
              "      <td>1143</td>\n",
              "      <td>NaN</td>\n",
              "      <td>msk</td>\n",
              "      <td>msk</td>\n",
              "    </tr>\n",
              "  </tbody>\n",
              "</table>\n",
              "</div>"
            ],
            "text/plain": [
              "                user_id               org_id  rating  ...  aspects user_city org_city\n",
              "0  16998268288908323644  7184895086928047809     2.0  ...      NaN       msk      msk\n",
              "1   3121447338909258868  7184895086928047809     5.0  ...      NaN       msk      msk\n",
              "2   1970649778250883025  7184895086928047809     3.0  ...      NaN       msk      msk\n",
              "3   7554889464530643866  7184895086928047809     4.0  ...      NaN       msk      msk\n",
              "4  15907910894057053620  7184895086928047809     1.0  ...      NaN       msk      msk\n",
              "\n",
              "[5 rows x 7 columns]"
            ]
          },
          "metadata": {},
          "execution_count": 6
        }
      ]
    },
    {
      "cell_type": "markdown",
      "metadata": {
        "id": "41a286f9"
      },
      "source": [
        "Отлично, теперь с отзывами будет удобно работать. \n",
        "\n",
        "Посмотрим на распределение новых отзывов по дням, чтобы понять, как лучше организовать валидацию. "
      ],
      "id": "41a286f9"
    },
    {
      "cell_type": "code",
      "metadata": {
        "id": "e3e75f89",
        "outputId": "086f6f11-975e-4b58-c78d-7360865ed2d3",
        "colab": {
          "base_uri": "https://localhost:8080/",
          "height": 601
        }
      },
      "source": [
        "sns.displot(data=reviews, x='ts', height=8)\n",
        "plt.title('Распределение отзывов по дням')\n",
        "plt.show()"
      ],
      "id": "e3e75f89",
      "execution_count": 7,
      "outputs": [
        {
          "output_type": "display_data",
          "data": {
            "image/png": "[encoded data removed]",
            "text/plain": [
              "<Figure size 576x576 with 1 Axes>"
            ]
          },
          "metadata": {
            "needs_background": "light"
          }
        }
      ]
    },
    {
      "cell_type": "markdown",
      "metadata": {
        "id": "298fffed"
      },
      "source": [
        "# Train-test split"
      ],
      "id": "298fffed"
    },
    {
      "cell_type": "code",
      "metadata": {
        "id": "abb90ff0"
      },
      "source": [
        "def clear_df(df, suffixes=['_x', '_y'], inplace=True):\n",
        "    '''\n",
        "    clear_df(df, suffixes=['_x', '_y'], inplace=True)\n",
        "        Удаляет из входного df все колонки, оканчивающиеся на заданные суффиксы. \n",
        "        \n",
        "        Parameters\n",
        "        ----------\n",
        "        df : pandas.DataFrame\n",
        "        \n",
        "        suffixies : Iterable, default=['_x', '_y']\n",
        "            Суффиксы колонок, подлежащих удалению\n",
        "            \n",
        "        inplace : bool, default=True\n",
        "            Нужно ли удалить колонки \"на месте\" или же создать копию DataFrame.\n",
        "            \n",
        "        Returns\n",
        "        -------\n",
        "        pandas.DataFrame (optional)\n",
        "            df с удалёнными колонками\n",
        "    '''\n",
        "    \n",
        "    def bad_suffix(column):\n",
        "        nonlocal suffixes\n",
        "        return any(column.endswith(suffix) for suffix in suffixes)\n",
        "        \n",
        "    columns_to_drop = [col for col in df.columns if bad_suffix(col)]\n",
        "    return df.drop(columns_to_drop, axis=1, inplace=inplace)\n",
        "\n",
        "\n",
        "def extract_unique(reviews, column): \n",
        "    '''\n",
        "    extract_unique(reviews, column)\n",
        "        Извлекает уникальные значения из колонки в DataFrame.\n",
        "        \n",
        "        Parameters\n",
        "        ----------\n",
        "        reviews : pandas.DataFrame\n",
        "            pandas.DataFrame, из которого будут извлечены значения.\n",
        "        \n",
        "        column : str\n",
        "            Имя колонки в <reviews>.\n",
        "        \n",
        "        Returns\n",
        "        -------\n",
        "        pandas.DataFrame\n",
        "            Содержит одну именованную колонку с уникальными значениями. \n",
        "    '''\n",
        "    \n",
        "    unique = reviews[column].unique()\n",
        "    return pd.DataFrame({column: unique})\n",
        "\n",
        "\n",
        "def count_unique(reviews, column):\n",
        "    '''\n",
        "    count_unique(reviews, column)\n",
        "        Извлекает и подсчитывает уникальные значения из колонки в DataFrame.\n",
        "        \n",
        "        Parameters\n",
        "        ----------\n",
        "        reviews : pandas.DataFrame\n",
        "            pandas.DataFrame, из которого будут извлечены значения.\n",
        "        \n",
        "        column : str\n",
        "            Имя колонки в <reviews>.\n",
        "        \n",
        "        Returns\n",
        "        -------\n",
        "        pandas.DataFrame\n",
        "            Содержит две колонки: с уникальными значениями и счётчиком встреченных. \n",
        "    '''\n",
        "    \n",
        "    return reviews[column].value_counts().reset_index(name='count').rename({'index': column}, axis=1)\n",
        "\n",
        "\n",
        "\n",
        "def filter_reviews(reviews, users=None, orgs=None): \n",
        "    '''\n",
        "    filter_reviews(reviews, users=None, orgs=None)\n",
        "    Оставляет в выборке только отзывы, оставленные заданными пользователями на заданные организации. \n",
        "    \n",
        "    Parameters\n",
        "    ----------\n",
        "        users: pandas.DataFrame, default=None\n",
        "            DataFrame, содержащий колонку <user_id>.\n",
        "            Если None, то фильтрация не происходит. \n",
        "            \n",
        "        orgs: pandas.DataFrame, default=None\n",
        "            DataFrame, содержащий колонку <org_id>.\n",
        "            Если None, то фильтрация не происходит. \n",
        "    \n",
        "    Returns\n",
        "    -------\n",
        "        pandas.DataFrame\n",
        "            Отфильтрованная выборка отзывов. \n",
        "\n",
        "    '''\n",
        "    if users is not None: \n",
        "        reviews = reviews.merge(users, on='user_id', how='inner')\n",
        "        clear_df(reviews)\n",
        "        \n",
        "    if orgs is not None:\n",
        "        reviews = reviews.merge(orgs, on='org_id', how='inner')\n",
        "        clear_df(reviews)\n",
        "        \n",
        "    return reviews\n",
        "\n",
        "\n",
        "def train_test_split(reviews, ts_start, ts_end=None):\n",
        "    '''\n",
        "    train_test_split(reviews, ts_start, ts_end=None)\n",
        "        Разделяет выборку отзывов на две части: обучающую и тестовую. \n",
        "        В тестовую выборку попадают только отзывы с user_id и org_id, встречающимися в обучающей выборке.\n",
        "\n",
        "        Parameters\n",
        "        ----------\n",
        "        reviews : pandas.DataFrame \n",
        "            Отзывы из reviews.csv с обязательными полями:\n",
        "                <rating>, <ts>, <user_id>, <user_city>, <org_id>, <org_city>.\n",
        "\n",
        "        ts_start : int\n",
        "            Первый день отзывов из тестовой выборки (включительно).\n",
        "\n",
        "        ts_end : int, default=None\n",
        "            Последний день отзывов из обучающей выборки (включительно)\n",
        "            Если параметр равен None, то ts_end == reviews['ts'].max(). \n",
        "\n",
        "        Returns\n",
        "        -------\n",
        "        splitting : tuple\n",
        "            Кортеж из двух pandas.DataFrame такой же структуры, как и reviews:\n",
        "            в первом отзывы, попавшие в обучающую выборку, во втором - в тестовую.\n",
        "    '''\n",
        "    \n",
        "    if not ts_end:\n",
        "        ts_end = reviews['ts'].max()\n",
        "    \n",
        "    \n",
        "    reviews_train = reviews[(reviews['ts'] < ts_start) | (reviews['ts'] > ts_end)]\n",
        "    reviews_test = reviews[(ts_start <= reviews['ts']) & (reviews['ts'] <= ts_end)]\n",
        "    \n",
        "    # 1. Выбираем только отзывы на понравившиеся места у путешественников\n",
        "    reviews_test = reviews_test[reviews_test['rating'] >= 4.0]\n",
        "    reviews_test = reviews_test[reviews_test['user_city'] != reviews_test['org_city']]\n",
        "    \n",
        "    # 2. Оставляем в тесте только тех пользователей и организации, которые встречались в трейне\n",
        "    train_orgs = extract_unique(reviews_train, 'org_id')\n",
        "    train_users = extract_unique(reviews_train, 'user_id')\n",
        "    \n",
        "    reviews_test = filter_reviews(reviews_test, orgs=train_orgs)\n",
        "\n",
        "    return reviews_train, reviews_test\n",
        "\n",
        "\n",
        "def process_reviews(reviews):\n",
        "    '''\n",
        "    process_reviews(reviews)\n",
        "        Извлекает из набора отзывов тестовых пользователей и таргет. \n",
        "        \n",
        "        Parameters\n",
        "        ----------\n",
        "        reviews : pandas.DataFrame\n",
        "            DataFrame с отзывами, содержащий колонки <user_id> и <org_id>\n",
        "        \n",
        "        Returns\n",
        "        -------\n",
        "        X : pandas.DataFrame\n",
        "            DataFrame такой же структуры, как и в test_users.csv\n",
        "            \n",
        "        y : pandas.DataFrame\n",
        "            DataFrame с колонками <user_id> и <target>. \n",
        "            В <target> содержится список org_id, посещённых пользователем. \n",
        "    '''\n",
        "    \n",
        "    y = reviews.groupby('user_id')['org_id'].apply(list).reset_index(name='target')\n",
        "    X = pd.DataFrame(y['user_id'])\n",
        "    \n",
        "    return X, y"
      ],
      "id": "abb90ff0",
      "execution_count": 8,
      "outputs": []
    },
    {
      "cell_type": "code",
      "metadata": {
        "id": "64304309",
        "outputId": "f91e1623-1f68-432e-b47f-6a927728efba",
        "colab": {
          "base_uri": "https://localhost:8080/"
        }
      },
      "source": [
        "reviews['ts'].max()"
      ],
      "id": "64304309",
      "execution_count": 9,
      "outputs": [
        {
          "output_type": "execute_result",
          "data": {
            "text/plain": [
              "1216"
            ]
          },
          "metadata": {},
          "execution_count": 9
        }
      ]
    },
    {
      "cell_type": "markdown",
      "metadata": {
        "id": "b8707221"
      },
      "source": [
        "Всего в выборку попали отызывы за **1216** дней. \n",
        "\n",
        "Отложим в тестовую выборку отзывы за последние **100** дней."
      ],
      "id": "b8707221"
    },
    {
      "cell_type": "code",
      "metadata": {
        "id": "43153fe0"
      },
      "source": [
        "train_reviews, test_reviews = train_test_split(reviews, 1116)\n",
        "X_test, y_test = process_reviews(test_reviews)"
      ],
      "id": "43153fe0",
      "execution_count": 10,
      "outputs": []
    },
    {
      "cell_type": "markdown",
      "metadata": {
        "id": "53a8082b"
      },
      "source": [
        "Посмотрим, сколько всего уникальных пользователей попало в эту тестовую выборку:"
      ],
      "id": "53a8082b"
    },
    {
      "cell_type": "code",
      "metadata": {
        "id": "8ca5cc75",
        "outputId": "a065b1a0-1555-49e9-cbcb-f413506ae34c",
        "colab": {
          "base_uri": "https://localhost:8080/"
        }
      },
      "source": [
        "len(X_test)"
      ],
      "id": "8ca5cc75",
      "execution_count": 11,
      "outputs": [
        {
          "output_type": "execute_result",
          "data": {
            "text/plain": [
              "12044"
            ]
          },
          "metadata": {},
          "execution_count": 11
        }
      ]
    },
    {
      "cell_type": "markdown",
      "metadata": {
        "id": "d3b18782"
      },
      "source": [
        "# Метрика"
      ],
      "id": "d3b18782"
    },
    {
      "cell_type": "markdown",
      "metadata": {
        "id": "115d6644"
      },
      "source": [
        "Метрика принимает на вход два DataFrame, имеющих такую же структуру, как и **y_test**.\n",
        "\n",
        "`print_score` домножает реальное значение метрики на 100 так же, как и в контесте.\n",
        "\n",
        "Подобная имплементация используется для оценки **submission**."
      ],
      "id": "115d6644"
    },
    {
      "cell_type": "code",
      "metadata": {
        "id": "febc6b3e"
      },
      "source": [
        "def MNAP(size=20):\n",
        "    '''\n",
        "    MNAP(size=20)\n",
        "        Создаёт метрику под <size> сделанных предсказаний.\n",
        "        \n",
        "        Parameters\n",
        "        ----------\n",
        "        size : int, default=20\n",
        "            Размер рекомендованной выборки для каждого пользователя\n",
        "        \n",
        "        Returns\n",
        "        -------\n",
        "        func(pd.DataFrame, pd.DataFrame) -> float\n",
        "            Функция, вычисляющая MNAP.\n",
        "        \n",
        "    '''\n",
        "    \n",
        "    assert size >= 1, \"Size must be greater than zero!\"\n",
        "    \n",
        "    def metric(y_true, predictions, size=size):\n",
        "        '''\n",
        "        metric(y_true, predictions, size=size)\n",
        "            Метрика MNAP для двух перемешанных наборов <y_true> и <y_pred>.\n",
        "            \n",
        "            Parameters\n",
        "            ----------\n",
        "            y_true : pd.DataFrame\n",
        "                DataFrame с колонками <user_id> и <target>. \n",
        "                В <target> содержится список настоящих org_id, посещённых пользователем. \n",
        "                \n",
        "            predictions : pd.DataFrame\n",
        "                DataFrame с колонками <user_id> и <target>. \n",
        "                В <target> содержится список рекомендованных для пользователя org_id.\n",
        "                \n",
        "            Returns\n",
        "            -------\n",
        "            float \n",
        "                Значение метрики.\n",
        "        '''\n",
        "        \n",
        "        y_true = y_true.rename({'target': 'y_true'}, axis='columns')\n",
        "        predictions = predictions.rename({'target': 'predictions'}, axis='columns')\n",
        "        \n",
        "        merged = y_true.merge(predictions, left_on='user_id', right_on='user_id')\n",
        "    \n",
        "        def score(x, size=size):\n",
        "            '''\n",
        "            Вспомогательная функция.\n",
        "            '''\n",
        "            \n",
        "            \n",
        "            y_true = x[1][1]\n",
        "            predictions = x[1][2][:size]\n",
        "            \n",
        "            weight = 0\n",
        "            \n",
        "            inner_weights = [0]\n",
        "            for n, item in enumerate(predictions):\n",
        "                inner_weight = inner_weights[-1] + (1 if item in y_true else 0)\n",
        "                inner_weights.append(inner_weight)\n",
        "            \n",
        "            for n, item in enumerate(predictions):                \n",
        "                if item in y_true:\n",
        "                    weight += inner_weights[n + 1] / (n + 1)\n",
        "                    \n",
        "            return weight / min(len(y_true), size)\n",
        "    \n",
        "        return np.mean([score(row) for row in merged.iterrows()])\n",
        "    \n",
        "        \n",
        "    return metric\n",
        "\n",
        "\n",
        "def print_score(score):\n",
        "    print(f\"Score: {score*100.0:.2f}\")\n",
        "    \n",
        "    \n",
        "N = 20\n",
        "MNAP_N = MNAP(N)"
      ],
      "id": "febc6b3e",
      "execution_count": 12,
      "outputs": []
    },
    {
      "cell_type": "markdown",
      "metadata": {
        "id": "0d3598c7"
      },
      "source": [
        "# Подходы без машинного обучения"
      ],
      "id": "0d3598c7"
    },
    {
      "cell_type": "markdown",
      "metadata": {
        "id": "de14194c"
      },
      "source": [
        "## Случайные N мест"
      ],
      "id": "de14194c"
    },
    {
      "cell_type": "markdown",
      "metadata": {
        "id": "1180f7b2"
      },
      "source": [
        "Попробуем предлагать пользователям случайные места из другого города. "
      ],
      "id": "1180f7b2"
    },
    {
      "cell_type": "code",
      "metadata": {
        "id": "08c07cf4"
      },
      "source": [
        "spb_orgs = orgs[orgs['city'] == 'spb']['org_id']\n",
        "msk_orgs = orgs[orgs['city'] == 'msk']['org_id']\n",
        "\n",
        "test_users_with_locations = X_test.merge(users, on='user_id')"
      ],
      "id": "08c07cf4",
      "execution_count": 13,
      "outputs": []
    },
    {
      "cell_type": "code",
      "metadata": {
        "id": "493d8770",
        "outputId": "91de604a-54fe-4157-cbef-328bbc0a27f7",
        "colab": {
          "base_uri": "https://localhost:8080/"
        }
      },
      "source": [
        "%%time\n",
        "\n",
        "np.random.seed(1337)\n",
        "choose = lambda x: np.random.choice(spb_orgs, N) if x['city'] == 'msk' else np.random.choice(msk_orgs, N)\n",
        "target = test_users_with_locations.apply(choose, axis=1)\n",
        "\n",
        "predictions = X_test.copy()\n",
        "predictions['target'] = target\n",
        "\n",
        "print_score(MNAP_N(y_test, predictions))"
      ],
      "id": "493d8770",
      "execution_count": 14,
      "outputs": [
        {
          "output_type": "stream",
          "name": "stdout",
          "text": [
            "Score: 0.02\n",
            "CPU times: user 3.44 s, sys: 91.4 ms, total: 3.53 s\n",
            "Wall time: 3.41 s\n"
          ]
        }
      ]
    },
    {
      "cell_type": "markdown",
      "metadata": {
        "id": "ad9fa79e"
      },
      "source": [
        "## N самых популярных мест"
      ],
      "id": "ad9fa79e"
    },
    {
      "cell_type": "markdown",
      "metadata": {
        "id": "e18ca7c9"
      },
      "source": [
        "Предыдущий подход, очевидно, не очень удачно предсказывает, какие места посетит пользователей. \n",
        "\n",
        "Попробуем улучшить стратегию: будем предлагать пользователям самые популярные места, то есть те, на которые оставлено больше всего отзывов. "
      ],
      "id": "e18ca7c9"
    },
    {
      "cell_type": "code",
      "metadata": {
        "id": "40992390"
      },
      "source": [
        "msk_orgs = train_reviews[(train_reviews['rating'] >= 4) & (train_reviews['org_city'] == 'msk')]['org_id']\n",
        "msk_orgs = msk_orgs.value_counts().index[:N].to_list()\n",
        "\n",
        "spb_orgs = train_reviews[(train_reviews['rating'] >= 4) & (train_reviews['org_city'] == 'spb')]['org_id']\n",
        "spb_orgs = spb_orgs.value_counts().index[:N].to_list()"
      ],
      "id": "40992390",
      "execution_count": 15,
      "outputs": []
    },
    {
      "cell_type": "code",
      "metadata": {
        "id": "69b4ed06",
        "outputId": "3076ded4-c29d-433f-bb77-66e56440725a",
        "colab": {
          "base_uri": "https://localhost:8080/"
        }
      },
      "source": [
        "%%time\n",
        "\n",
        "choose = lambda x: spb_orgs if x['city'] == 'msk' else msk_orgs\n",
        "target = test_users_with_locations.apply(choose, axis=1)\n",
        "\n",
        "predictions = X_test.copy()\n",
        "predictions['target'] = target\n",
        "\n",
        "print_score(MNAP_N(y_test, predictions))"
      ],
      "id": "69b4ed06",
      "execution_count": 16,
      "outputs": [
        {
          "output_type": "stream",
          "name": "stdout",
          "text": [
            "Score: 4.21\n",
            "CPU times: user 1.19 s, sys: 3.32 ms, total: 1.19 s\n",
            "Wall time: 1.21 s\n"
          ]
        }
      ]
    },
    {
      "cell_type": "markdown",
      "metadata": {
        "id": "13df191d"
      },
      "source": [
        "Отлично, метрика немного улучшилась. Но стоит попробовать доработать эту тактику. "
      ],
      "id": "13df191d"
    },
    {
      "cell_type": "markdown",
      "metadata": {
        "id": "5ae2bdbd"
      },
      "source": [
        "## N самых популярных мест среди туристов"
      ],
      "id": "5ae2bdbd"
    },
    {
      "cell_type": "code",
      "metadata": {
        "id": "7484e2b9"
      },
      "source": [
        "tourist_reviews = train_reviews[train_reviews['rating'] >= 4.0]\n",
        "\n",
        "# набор отзывов только от туристов\n",
        "tourist_reviews = tourist_reviews[tourist_reviews['user_city'] != tourist_reviews['org_city']]\n",
        "\n",
        "# выбираем самые популярные места среди туристов из Москвы и Питера\n",
        "msk_orgs = tourist_reviews[tourist_reviews['org_city'] == 'msk']['org_id']\n",
        "msk_orgs = msk_orgs.value_counts().index[:N].to_list()\n",
        "\n",
        "spb_orgs = tourist_reviews[tourist_reviews['org_city'] == 'spb']['org_id']\n",
        "spb_orgs = spb_orgs.value_counts().index[:N].to_list()"
      ],
      "id": "7484e2b9",
      "execution_count": 17,
      "outputs": []
    },
    {
      "cell_type": "code",
      "metadata": {
        "id": "52ed6d80",
        "outputId": "b9bd8709-315f-4da9-8136-ea4c7b219c41",
        "colab": {
          "base_uri": "https://localhost:8080/"
        }
      },
      "source": [
        "%%time\n",
        "\n",
        "choose = lambda x: spb_orgs if x['city'] == 'msk' else msk_orgs\n",
        "target = test_users_with_locations.apply(choose, axis=1)\n",
        "\n",
        "predictions = X_test.copy()\n",
        "predictions['target'] = target\n",
        "\n",
        "print_score(MNAP_N(y_test, predictions))"
      ],
      "id": "52ed6d80",
      "execution_count": 18,
      "outputs": [
        {
          "output_type": "stream",
          "name": "stdout",
          "text": [
            "Score: 6.40\n",
            "CPU times: user 1.2 s, sys: 4.49 ms, total: 1.21 s\n",
            "Wall time: 1.21 s\n"
          ]
        }
      ]
    },
    {
      "cell_type": "markdown",
      "metadata": {
        "id": "531a1b6c"
      },
      "source": [
        "Метрика улучшилась ещё немного."
      ],
      "id": "531a1b6c"
    },
    {
      "cell_type": "markdown",
      "metadata": {
        "id": "60f4cd0a"
      },
      "source": [
        "## N / rubrics_count самых популярных мест из каждой рубрики"
      ],
      "id": "60f4cd0a"
    },
    {
      "cell_type": "code",
      "metadata": {
        "id": "ce8f63fd"
      },
      "source": [
        "def extract_top_by_rubrics(reviews, N):\n",
        "    '''\n",
        "    extract_top_by_rubrics(reviews, N)\n",
        "        Набирает самые популярные организации по рубрикам, сохраняя распределение.\n",
        "        \n",
        "        Parameters\n",
        "        ----------\n",
        "        reviews : pd.DataFrame\n",
        "            Отзывы пользователей для рекомендации.\n",
        "            \n",
        "        N : int\n",
        "            Число рекомендаций.\n",
        "        \n",
        "        Returns\n",
        "        -------\n",
        "        orgs_list : list\n",
        "            Список отобранных организаций.\n",
        "    '''\n",
        "    \n",
        "    # извлечение популярных рубрик\n",
        "    reviews = reviews.merge(orgs, on='org_id')[['org_id', 'rubrics_id']]\n",
        "    \n",
        "    rubrics = reviews.explode('rubrics_id').groupby('rubrics_id').size()\n",
        "    rubrics = (rubrics / rubrics.sum() * N).apply(round).sort_values(ascending=False)\n",
        "\n",
        "    # вывод списка рубрик по убыванию популярности\n",
        "#     print(\n",
        "#         pd.read_csv('data/rubrics.csv')\n",
        "#         .merge(rubrics.reset_index(), left_index=True, right_on='rubrics_id')\n",
        "#         .sort_values(by=0, ascending=False)[['rubric_id', 0]]\n",
        "#     )\n",
        "    \n",
        "    # извлечение популярных организаций\n",
        "    train_orgs = reviews.groupby('org_id').size().reset_index(name='count').merge(orgs, on='org_id')\n",
        "    train_orgs = train_orgs[['org_id', 'count', 'rubrics_id']]\n",
        "\n",
        "    most_popular_rubric = lambda rubrics_id: max(rubrics_id, key=lambda rubric_id: rubrics[rubric_id])\n",
        "    train_orgs['rubrics_id'] = train_orgs['rubrics_id'].apply(most_popular_rubric)\n",
        "    \n",
        "    orgs_by_rubrics = train_orgs.sort_values(by='count', ascending=False).groupby('rubrics_id')['org_id'].apply(list)\n",
        "    \n",
        "    # соберём самые популярные организации в рубриках в один список\n",
        "    \n",
        "    orgs_list = []\n",
        "    \n",
        "    for rubric_id, count in zip(rubrics.index, rubrics):\n",
        "        if rubric_id not in orgs_by_rubrics:\n",
        "            continue \n",
        "\n",
        "        orgs_list.extend(orgs_by_rubrics[rubric_id][:count])\n",
        "    \n",
        "    return orgs_list\n",
        "\n",
        "\n",
        "msk_orgs = extract_top_by_rubrics(tourist_reviews[tourist_reviews['org_city'] == 'msk'], N)\n",
        "spb_orgs = extract_top_by_rubrics(tourist_reviews[tourist_reviews['org_city'] == 'spb'], N)"
      ],
      "id": "ce8f63fd",
      "execution_count": 19,
      "outputs": []
    },
    {
      "cell_type": "code",
      "metadata": {
        "id": "16b3f031",
        "outputId": "16f6fce7-59b2-4020-ec60-afbb19b00d15",
        "colab": {
          "base_uri": "https://localhost:8080/"
        }
      },
      "source": [
        "%%time\n",
        "\n",
        "choose = lambda x: spb_orgs if x['city'] == 'msk' else msk_orgs\n",
        "target = test_users_with_locations.apply(choose, axis=1)\n",
        "\n",
        "predictions = X_test.copy()\n",
        "predictions['target'] = target\n",
        "\n",
        "print_score(MNAP_N(y_test, predictions))"
      ],
      "id": "16b3f031",
      "execution_count": 20,
      "outputs": [
        {
          "output_type": "stream",
          "name": "stdout",
          "text": [
            "Score: 5.77\n",
            "CPU times: user 1.15 s, sys: 6.75 ms, total: 1.16 s\n",
            "Wall time: 1.16 s\n"
          ]
        }
      ]
    },
    {
      "cell_type": "markdown",
      "metadata": {
        "id": "cf5bd1ec"
      },
      "source": [
        "# Время ML! Коллаборативная фильтрация"
      ],
      "id": "cf5bd1ec"
    },
    {
      "cell_type": "markdown",
      "metadata": {
        "id": "409973b4"
      },
      "source": [
        "## Memory-based\n",
        "\n",
        "Для этой группы методов требуется явное построение матрицы __пользователь-организация__ (__interaction matrix__), где на пересечении $i$-ой строки и $j$-ого столбца будет рейтинг, который $i$-ый пользователь выставил $j$-ой организации или же пропуск, если рейтинг не был установлен. "
      ],
      "id": "409973b4"
    },
    {
      "cell_type": "code",
      "metadata": {
        "id": "57c608ac"
      },
      "source": [
        "def reduce_reviews(reviews, min_user_reviews=5, min_org_reviews=13):\n",
        "    '''\n",
        "    reduce_reviews(reviews, min_user_reviews=5, min_org_reviews=13)\n",
        "        Убирает из выборки пользователей и организации, у которых менее <min_reviews> отзывов в родном городе. \n",
        "        Оставляет только отзывы туристов. \n",
        "        \n",
        "        Parameters\n",
        "        ----------\n",
        "        reviews : pandas.DataFrame \n",
        "            Выборка отзывов с обязательными полями:\n",
        "                <user_id>, <user_city>.\n",
        "        \n",
        "        min_user_reviews : int, default=5\n",
        "            Минимальное количество отзывов у пользователя, необходимое для включения в выборку.\n",
        "            \n",
        "        min_org_reviews : int, default=13\n",
        "            Минимальное количество отзывов у организации, необходимое для включения в выборку.\n",
        "            \n",
        "        Returns\n",
        "        -------\n",
        "        splitting : tuple\n",
        "            Кортеж из двух наборов.\n",
        "            Каждый набор содержит 2 pandas.DataFrame:\n",
        "                1. Урезанная выборка отзывов\n",
        "                2. Набор уникальных организаций\n",
        "                \n",
        "            Первый набор содержит DataFrame-ы, относящиеся к отзывам, оставленным в родном городе, а второй -\n",
        "            к отзывам, оставленным в чужом городе. ё\n",
        "            \n",
        "        users : pd.DataFrame\n",
        "            Набор уникальных пользователей в выборке\n",
        "        \n",
        "    '''\n",
        "    \n",
        "    inner_reviews = reviews[reviews['user_city'] == reviews['org_city']]\n",
        "    outer_reviews = reviews[reviews['user_city'] != reviews['org_city']]\n",
        "\n",
        "    # оставляем только отзывы туристов на родной город \n",
        "    tourist_users = extract_unique(outer_reviews, 'user_id')\n",
        "    inner_reviews = filter_reviews(inner_reviews, users=tourist_users)\n",
        "    \n",
        "    # выбираем только тех пользователей и организации, у которых есть <min_reviews> отзывов\n",
        "    top_users = count_unique(inner_reviews, 'user_id')\n",
        "    top_users = top_users[top_users['count'] >= min_user_reviews]\n",
        "        \n",
        "    top_orgs = count_unique(inner_reviews, 'org_id')\n",
        "    top_orgs = top_orgs[top_orgs['count'] >= min_org_reviews]\n",
        "        \n",
        "    inner_reviews = filter_reviews(inner_reviews, users=top_users, orgs=top_orgs)\n",
        "    outer_reviews = filter_reviews(outer_reviews, users=top_users)\n",
        "    \n",
        "    # combine reviews\n",
        "    reviews = pd.concat([inner_reviews, outer_reviews])\n",
        "    users = extract_unique(reviews, 'user_id')\n",
        "    orgs = extract_unique(reviews, 'org_id')\n",
        "    \n",
        "    \n",
        "    return (\n",
        "        (\n",
        "            inner_reviews,\n",
        "            extract_unique(inner_reviews, 'org_id')\n",
        "        ),\n",
        "        (\n",
        "            outer_reviews,\n",
        "            extract_unique(outer_reviews, 'org_id')\n",
        "        ),\n",
        "        extract_unique(inner_reviews, 'user_id')\n",
        "    )"
      ],
      "id": "57c608ac",
      "execution_count": 21,
      "outputs": []
    },
    {
      "cell_type": "code",
      "metadata": {
        "id": "218c6694"
      },
      "source": [
        "def create_mappings(df, column):\n",
        "    '''\n",
        "    create_mappings(df, column)\n",
        "        Создаёт маппинг между оригинальными ключами словаря и новыми порядковыми.\n",
        "        \n",
        "        Parameters\n",
        "        ----------\n",
        "        df : pandas.DataFrame\n",
        "            DataFrame с данными.\n",
        "            \n",
        "        column : str\n",
        "            Название колонки, содержащей нужны ключи. \n",
        "        \n",
        "        Returns\n",
        "        -------\n",
        "        code_to_idx : dict\n",
        "            Словарь с маппингом: \"оригинальный ключ\" -> \"новый ключ\".\n",
        "        \n",
        "        idx_to_code : dict\n",
        "            Словарь с маппингом: \"новый ключ\" -> \"оригинальный ключ\".\n",
        "    '''\n",
        "    \n",
        "    code_to_idx = {}\n",
        "    idx_to_code = {}\n",
        "    \n",
        "    for idx, code in enumerate(df[column].to_list()):\n",
        "        code_to_idx[code] = idx\n",
        "        idx_to_code[idx] = code\n",
        "        \n",
        "    return code_to_idx, idx_to_code\n",
        "\n",
        "\n",
        "def map_ids(row, mapping):\n",
        "    '''\n",
        "    Вспомогательная функция\n",
        "    '''\n",
        "    \n",
        "    return mapping[row]\n",
        "\n",
        "\n",
        "def interaction_matrix(reviews, test_users, min_user_reviews=5, min_org_reviews=12): \n",
        "    '''\n",
        "    interaction_matrix(reviews, test_users, min_user_reviews=5, min_org_reviews=12)\n",
        "        Создаёт блочную матрицу взаимодействий (вид матрицы описан в Returns)\n",
        "        \n",
        "        Parameters\n",
        "        ----------\n",
        "        reviews : pd.DataFrame\n",
        "            Отзывы пользователей для матрицы взаимодействий.\n",
        "            \n",
        "        test_users : pd.DataFrame\n",
        "            Пользователи, для которых будет выполнятся предсказание. \n",
        "        \n",
        "        min_user_reviews : int, default=5\n",
        "            Минимальное число отзывов от пользователя, необходимое для включения его в матрицу.\n",
        "        \n",
        "        min_org_reviews : int, default=12\n",
        "            Минимальное число отзывов на организацию, необходимое для включения её в матрицу.\n",
        "    \n",
        "        Returns\n",
        "        -------\n",
        "        InteractionMatrix : scipy.sparse.csr_matrix\n",
        "            Матрица, содержащая рейтинги, выставленные пользователями.\n",
        "            Она блочная и имеет такой вид:\n",
        "                 ---------------------------------------------------\n",
        "                | TRAIN USERS, INNER ORGS | TRAIN USERS, OUTER ORGS |\n",
        "                |                         |                         |\n",
        "                 ---------------------------------------------------\n",
        "                |  TEST USERS, INNER ORGS |  TEST USERS, OUTER ORGS |\n",
        "                |                         |                         |\n",
        "                 ---------------------------------------------------\n",
        "\n",
        "        splitting : tuple\n",
        "            Кортеж, содержащий два целых числа: \n",
        "                1. Число пользователей в обучающей выборке \n",
        "                2. Число организаций в домашнем регионе\n",
        "\n",
        "        splitting: tuple\n",
        "            Кортеж, содержащий два котрежа из двух словарей:\n",
        "                1. (idx_to_uid, uid_to_idx) - содержит маппинг индекса к user_id\n",
        "                2. (idx_to_oid, oid_to_idx) - содержит маппинг индекса к org_id\n",
        "    '''\n",
        "    \n",
        "    info = reduce_reviews(train_reviews, min_user_reviews, min_org_reviews)\n",
        "    (inner_reviews, inner_orgs), (outer_reviews, outer_orgs), train_users = info\n",
        "    \n",
        "    # удалим из обучающей выборки пользователей, которые есть в тестовой\n",
        "    test_users = test_users[['user_id']]\n",
        "    \n",
        "    train_users = (\n",
        "        pd.merge(train_users, test_users, indicator=True, how='outer')\n",
        "        .query('_merge==\"left_only\"')\n",
        "        .drop('_merge', axis=1)\n",
        "    )\n",
        "    \n",
        "    inner_reviews = filter_reviews(inner_reviews, train_users)\n",
        "    outer_reviews = filter_reviews(outer_reviews, train_users)\n",
        "    \n",
        "    # оставляем отзывы, оставленные тестовыми пользователями\n",
        "    test_reviews = filter_reviews(reviews, test_users, pd.concat([inner_orgs, outer_orgs]))\n",
        "    \n",
        "    # получаем полный набор маппингов\n",
        "    all_users = pd.concat([train_users, test_users])\n",
        "    all_orgs = pd.concat([inner_orgs, outer_orgs])\n",
        "    \n",
        "    uid_to_idx, idx_to_uid = create_mappings(all_users, 'user_id')\n",
        "    oid_to_idx, idx_to_oid = create_mappings(all_orgs, 'org_id')\n",
        "    \n",
        "    # собираем матрицу взаимодействий \n",
        "    reviews = pd.concat([inner_reviews, outer_reviews, test_reviews])    \n",
        "        \n",
        "    I = reviews['user_id'].apply(map_ids, args=[uid_to_idx]).values\n",
        "    J = reviews['org_id'].apply(map_ids, args=[oid_to_idx]).values\n",
        "    values = reviews['rating']\n",
        "        \n",
        "    interactions = sparse.coo_matrix(\n",
        "        (values, (I, J)), \n",
        "        shape=(len(all_users), len(all_orgs)), \n",
        "        dtype=np.float64\n",
        "    ).tocsr()\n",
        "    \n",
        "    \n",
        "    return (\n",
        "        interactions, \n",
        "        (len(train_users), len(inner_orgs)), \n",
        "        (\n",
        "            (idx_to_uid, uid_to_idx),\n",
        "            (idx_to_oid, oid_to_idx)\n",
        "        )\n",
        "    )"
      ],
      "id": "218c6694",
      "execution_count": 22,
      "outputs": []
    },
    {
      "cell_type": "markdown",
      "metadata": {
        "id": "e721b3ea"
      },
      "source": [
        "## ALS"
      ],
      "id": "e721b3ea"
    },
    {
      "cell_type": "code",
      "metadata": {
        "id": "_mGh-rKWvloj",
        "outputId": "7ff600f0-7516-4053-b788-f4877629ebd5",
        "colab": {
          "base_uri": "https://localhost:8080/"
        }
      },
      "source": [
        "!pip install implicit==0.4.8"
      ],
      "id": "_mGh-rKWvloj",
      "execution_count": 23,
      "outputs": [
        {
          "output_type": "stream",
          "name": "stdout",
          "text": [
            "Collecting implicit==0.4.8\n",
            "  Downloading implicit-0.4.8.tar.gz (1.1 MB)\n",
            "\u001b[?25l\r\u001b[K     |▎                               | 10 kB 21.6 MB/s eta 0:00:01\r\u001b[K     |▋                               | 20 kB 28.2 MB/s eta 0:00:01\r\u001b[K     |▉                               | 30 kB 17.4 MB/s eta 0:00:01\r\u001b[K     |█▏                              | 40 kB 12.2 MB/s eta 0:00:01\r\u001b[K     |█▍                              | 51 kB 5.5 MB/s eta 0:00:01\r\u001b[K     |█▊                              | 61 kB 5.7 MB/s eta 0:00:01\r\u001b[K     |██                              | 71 kB 5.4 MB/s eta 0:00:01\r\u001b[K     |██▎                             | 81 kB 6.1 MB/s eta 0:00:01\r\u001b[K     |██▋                             | 92 kB 5.9 MB/s eta 0:00:01\r\u001b[K     |██▉                             | 102 kB 5.2 MB/s eta 0:00:01\r\u001b[K     |███▏                            | 112 kB 5.2 MB/s eta 0:00:01\r\u001b[K     |███▍                            | 122 kB 5.2 MB/s eta 0:00:01\r\u001b[K     |███▊                            | 133 kB 5.2 MB/s eta 0:00:01\r\u001b[K     |████                            | 143 kB 5.2 MB/s eta 0:00:01\r\u001b[K     |████▎                           | 153 kB 5.2 MB/s eta 0:00:01\r\u001b[K     |████▋                           | 163 kB 5.2 MB/s eta 0:00:01\r\u001b[K     |████▉                           | 174 kB 5.2 MB/s eta 0:00:01\r\u001b[K     |█████▏                          | 184 kB 5.2 MB/s eta 0:00:01\r\u001b[K     |█████▍                          | 194 kB 5.2 MB/s eta 0:00:01\r\u001b[K     |█████▊                          | 204 kB 5.2 MB/s eta 0:00:01\r\u001b[K     |██████                          | 215 kB 5.2 MB/s eta 0:00:01\r\u001b[K     |██████▎                         | 225 kB 5.2 MB/s eta 0:00:01\r\u001b[K     |██████▋                         | 235 kB 5.2 MB/s eta 0:00:01\r\u001b[K     |██████▉                         | 245 kB 5.2 MB/s eta 0:00:01\r\u001b[K     |███████▏                        | 256 kB 5.2 MB/s eta 0:00:01\r\u001b[K     |███████▌                        | 266 kB 5.2 MB/s eta 0:00:01\r\u001b[K     |███████▊                        | 276 kB 5.2 MB/s eta 0:00:01\r\u001b[K     |████████                        | 286 kB 5.2 MB/s eta 0:00:01\r\u001b[K     |████████▎                       | 296 kB 5.2 MB/s eta 0:00:01\r\u001b[K     |████████▋                       | 307 kB 5.2 MB/s eta 0:00:01\r\u001b[K     |████████▉                       | 317 kB 5.2 MB/s eta 0:00:01\r\u001b[K     |█████████▏                      | 327 kB 5.2 MB/s eta 0:00:01\r\u001b[K     |█████████▌                      | 337 kB 5.2 MB/s eta 0:00:01\r\u001b[K     |█████████▊                      | 348 kB 5.2 MB/s eta 0:00:01\r\u001b[K     |██████████                      | 358 kB 5.2 MB/s eta 0:00:01\r\u001b[K     |██████████▎                     | 368 kB 5.2 MB/s eta 0:00:01\r\u001b[K     |██████████▋                     | 378 kB 5.2 MB/s eta 0:00:01\r\u001b[K     |██████████▉                     | 389 kB 5.2 MB/s eta 0:00:01\r\u001b[K     |███████████▏                    | 399 kB 5.2 MB/s eta 0:00:01\r\u001b[K     |███████████▌                    | 409 kB 5.2 MB/s eta 0:00:01\r\u001b[K     |███████████▊                    | 419 kB 5.2 MB/s eta 0:00:01\r\u001b[K     |████████████                    | 430 kB 5.2 MB/s eta 0:00:01\r\u001b[K     |████████████▎                   | 440 kB 5.2 MB/s eta 0:00:01\r\u001b[K     |████████████▋                   | 450 kB 5.2 MB/s eta 0:00:01\r\u001b[K     |█████████████                   | 460 kB 5.2 MB/s eta 0:00:01\r\u001b[K     |█████████████▏                  | 471 kB 5.2 MB/s eta 0:00:01\r\u001b[K     |█████████████▌                  | 481 kB 5.2 MB/s eta 0:00:01\r\u001b[K     |█████████████▊                  | 491 kB 5.2 MB/s eta 0:00:01\r\u001b[K     |██████████████                  | 501 kB 5.2 MB/s eta 0:00:01\r\u001b[K     |██████████████▎                 | 512 kB 5.2 MB/s eta 0:00:01\r\u001b[K     |██████████████▋                 | 522 kB 5.2 MB/s eta 0:00:01\r\u001b[K     |███████████████                 | 532 kB 5.2 MB/s eta 0:00:01\r\u001b[K     |███████████████▏                | 542 kB 5.2 MB/s eta 0:00:01\r\u001b[K     |███████████████▌                | 552 kB 5.2 MB/s eta 0:00:01\r\u001b[K     |███████████████▊                | 563 kB 5.2 MB/s eta 0:00:01\r\u001b[K     |████████████████                | 573 kB 5.2 MB/s eta 0:00:01\r\u001b[K     |████████████████▎               | 583 kB 5.2 MB/s eta 0:00:01\r\u001b[K     |████████████████▋               | 593 kB 5.2 MB/s eta 0:00:01\r\u001b[K     |█████████████████               | 604 kB 5.2 MB/s eta 0:00:01\r\u001b[K     |█████████████████▏              | 614 kB 5.2 MB/s eta 0:00:01\r\u001b[K     |█████████████████▌              | 624 kB 5.2 MB/s eta 0:00:01\r\u001b[K     |█████████████████▊              | 634 kB 5.2 MB/s eta 0:00:01\r\u001b[K     |██████████████████              | 645 kB 5.2 MB/s eta 0:00:01\r\u001b[K     |██████████████████▍             | 655 kB 5.2 MB/s eta 0:00:01\r\u001b[K     |██████████████████▋             | 665 kB 5.2 MB/s eta 0:00:01\r\u001b[K     |███████████████████             | 675 kB 5.2 MB/s eta 0:00:01\r\u001b[K     |███████████████████▏            | 686 kB 5.2 MB/s eta 0:00:01\r\u001b[K     |███████████████████▌            | 696 kB 5.2 MB/s eta 0:00:01\r\u001b[K     |███████████████████▊            | 706 kB 5.2 MB/s eta 0:00:01\r\u001b[K     |████████████████████            | 716 kB 5.2 MB/s eta 0:00:01\r\u001b[K     |████████████████████▍           | 727 kB 5.2 MB/s eta 0:00:01\r\u001b[K     |████████████████████▋           | 737 kB 5.2 MB/s eta 0:00:01\r\u001b[K     |█████████████████████           | 747 kB 5.2 MB/s eta 0:00:01\r\u001b[K     |█████████████████████▏          | 757 kB 5.2 MB/s eta 0:00:01\r\u001b[K     |█████████████████████▌          | 768 kB 5.2 MB/s eta 0:00:01\r\u001b[K     |█████████████████████▊          | 778 kB 5.2 MB/s eta 0:00:01\r\u001b[K     |██████████████████████          | 788 kB 5.2 MB/s eta 0:00:01\r\u001b[K     |██████████████████████▍         | 798 kB 5.2 MB/s eta 0:00:01\r\u001b[K     |██████████████████████▋         | 808 kB 5.2 MB/s eta 0:00:01\r\u001b[K     |███████████████████████         | 819 kB 5.2 MB/s eta 0:00:01\r\u001b[K     |███████████████████████▏        | 829 kB 5.2 MB/s eta 0:00:01\r\u001b[K     |███████████████████████▌        | 839 kB 5.2 MB/s eta 0:00:01\r\u001b[K     |███████████████████████▉        | 849 kB 5.2 MB/s eta 0:00:01\r\u001b[K     |████████████████████████        | 860 kB 5.2 MB/s eta 0:00:01\r\u001b[K     |████████████████████████▍       | 870 kB 5.2 MB/s eta 0:00:01\r\u001b[K     |████████████████████████▋       | 880 kB 5.2 MB/s eta 0:00:01\r\u001b[K     |█████████████████████████       | 890 kB 5.2 MB/s eta 0:00:01\r\u001b[K     |█████████████████████████▏      | 901 kB 5.2 MB/s eta 0:00:01\r\u001b[K     |█████████████████████████▌      | 911 kB 5.2 MB/s eta 0:00:01\r\u001b[K     |█████████████████████████▉      | 921 kB 5.2 MB/s eta 0:00:01\r\u001b[K     |██████████████████████████      | 931 kB 5.2 MB/s eta 0:00:01\r\u001b[K     |██████████████████████████▍     | 942 kB 5.2 MB/s eta 0:00:01\r\u001b[K     |██████████████████████████▋     | 952 kB 5.2 MB/s eta 0:00:01\r\u001b[K     |███████████████████████████     | 962 kB 5.2 MB/s eta 0:00:01\r\u001b[K     |███████████████████████████▏    | 972 kB 5.2 MB/s eta 0:00:01\r\u001b[K     |███████████████████████████▌    | 983 kB 5.2 MB/s eta 0:00:01\r\u001b[K     |███████████████████████████▉    | 993 kB 5.2 MB/s eta 0:00:01\r\u001b[K     |████████████████████████████    | 1.0 MB 5.2 MB/s eta 0:00:01\r\u001b[K     |████████████████████████████▍   | 1.0 MB 5.2 MB/s eta 0:00:01\r\u001b[K     |████████████████████████████▋   | 1.0 MB 5.2 MB/s eta 0:00:01\r\u001b[K     |█████████████████████████████   | 1.0 MB 5.2 MB/s eta 0:00:01\r\u001b[K     |█████████████████████████████▎  | 1.0 MB 5.2 MB/s eta 0:00:01\r\u001b[K     |█████████████████████████████▌  | 1.1 MB 5.2 MB/s eta 0:00:01\r\u001b[K     |█████████████████████████████▉  | 1.1 MB 5.2 MB/s eta 0:00:01\r\u001b[K     |██████████████████████████████  | 1.1 MB 5.2 MB/s eta 0:00:01\r\u001b[K     |██████████████████████████████▍ | 1.1 MB 5.2 MB/s eta 0:00:01\r\u001b[K     |██████████████████████████████▋ | 1.1 MB 5.2 MB/s eta 0:00:01\r\u001b[K     |███████████████████████████████ | 1.1 MB 5.2 MB/s eta 0:00:01\r\u001b[K     |███████████████████████████████▎| 1.1 MB 5.2 MB/s eta 0:00:01\r\u001b[K     |███████████████████████████████▌| 1.1 MB 5.2 MB/s eta 0:00:01\r\u001b[K     |███████████████████████████████▉| 1.1 MB 5.2 MB/s eta 0:00:01\r\u001b[K     |████████████████████████████████| 1.1 MB 5.2 MB/s \n",
            "\u001b[?25h  Installing build dependencies ... \u001b[?25l\u001b[?25hdone\n",
            "  Getting requirements to build wheel ... \u001b[?25l\u001b[?25hdone\n",
            "  Installing backend dependencies ... \u001b[?25l\u001b[?25hdone\n",
            "    Preparing wheel metadata ... \u001b[?25l\u001b[?25hdone\n",
            "Requirement already satisfied: scipy>=0.16 in /usr/local/lib/python3.7/dist-packages (from implicit==0.4.8) (1.4.1)\n",
            "Requirement already satisfied: tqdm>=4.27 in /usr/local/lib/python3.7/dist-packages (from implicit==0.4.8) (4.62.3)\n",
            "Requirement already satisfied: numpy in /usr/local/lib/python3.7/dist-packages (from implicit==0.4.8) (1.19.5)\n",
            "Building wheels for collected packages: implicit\n",
            "  Building wheel for implicit (PEP 517) ... \u001b[?25l\u001b[?25hdone\n",
            "  Created wheel for implicit: filename=implicit-0.4.8-cp37-cp37m-linux_x86_64.whl size=4606619 sha256=1c33545565a1bb06b92e787f51a32e06c5e3d6a4fd94437ed65b5e38f05e6501\n",
            "  Stored in directory: /root/.cache/pip/wheels/88/e6/34/25e73cccbaf1a961154bb562a5f86123b68fdbf40e306073d6\n",
            "Successfully built implicit\n",
            "Installing collected packages: implicit\n",
            "Successfully installed implicit-0.4.8\n"
          ]
        }
      ]
    },
    {
      "cell_type": "code",
      "metadata": {
        "scrolled": true,
        "id": "4fe42863",
        "outputId": "874a19dd-ca24-448c-d1a2-32bfed456e89",
        "colab": {
          "base_uri": "https://localhost:8080/",
          "height": 544
        }
      },
      "source": [
        "%%time\n",
        "\n",
        "import implicit\n",
        "\n",
        "def make_predictions(interactions, X_test, N):\n",
        "    '''\n",
        "    make_predictions(interactions, X_test, N)\n",
        "        Делает рекомендации для пользователей из <X_test> на основе матрицы взаимодействий. \n",
        "        \n",
        "        Parameters\n",
        "        ----------\n",
        "        interactions : scipy.sparse.csr_matrix\n",
        "            Разреженная матрица взаимодействий.\n",
        "            \n",
        "        X_test : pd.DataFrame\n",
        "            Набор тестовых пользователей, для которых нужно сделать рекомендации. \n",
        "        \n",
        "        N : int\n",
        "            Число рекомендаций для каждого пользователя. \n",
        "        \n",
        "        Returns\n",
        "        -------\n",
        "        predictions : pd.DataFrame\n",
        "            DataFrame с колонками <user_id> и <target>. \n",
        "            В <target> содержится список рекомендованных для пользователя org_id.\n",
        "        \n",
        "        \n",
        "    '''\n",
        "    \n",
        "    predictions = X_test[['user_id']].copy()\n",
        "    predictions['target'] = pd.Series(dtype=object)\n",
        "    predictions = predictions.set_index('user_id')\n",
        "    \n",
        "    interactions, (train_users_len, inner_orgs_len), mappings = interactions\n",
        "    (idx_to_uid, uid_to_idx), (idx_to_oid, oid_to_idx) = mappings\n",
        "\n",
        "    base_model = implicit.als.AlternatingLeastSquares(\n",
        "        factors=5, \n",
        "        iterations=75, \n",
        "        regularization=0.05, \n",
        "        random_state=42\n",
        "    )\n",
        "    \n",
        "    base_model.fit(interactions.T)\n",
        "    \n",
        "    orgs_to_filter = list(np.arange(inner_orgs_len))\n",
        "\n",
        "    recommendations = base_model.recommend_all(\n",
        "        interactions,\n",
        "        N=N,\n",
        "        filter_already_liked_items=True,\n",
        "        filter_items=orgs_to_filter,\n",
        "        show_progress=True\n",
        "    )\n",
        "    \n",
        "    for user_id in tqdm(X_test['user_id'].values, leave=False):\n",
        "        predictions.loc[user_id, 'target'] = list(\n",
        "            map(\n",
        "                lambda org_idx: idx_to_oid[org_idx], \n",
        "                recommendations[uid_to_idx[user_id]]\n",
        "            )\n",
        "        )\n",
        "        \n",
        "    return predictions.reset_index()\n",
        "\n",
        "\n",
        "msk_interactions = interaction_matrix(\n",
        "    train_reviews[train_reviews['user_city'] == 'msk'],\n",
        "    test_users_with_locations[test_users_with_locations['city'] == 'msk'],\n",
        ")\n",
        "\n",
        "spb_interactions = interaction_matrix(\n",
        "    train_reviews[train_reviews['user_city'] == 'spb'],\n",
        "    test_users_with_locations[test_users_with_locations['city'] == 'spb'],\n",
        ")       \n",
        "        \n",
        "test_msk_users = test_users_with_locations[test_users_with_locations['city'] == 'msk']\n",
        "test_spb_users = test_users_with_locations[test_users_with_locations['city'] == 'spb']\n",
        "\n",
        "msk_predictions = make_predictions(msk_interactions, test_msk_users, N)\n",
        "spb_predictions = make_predictions(spb_interactions, test_spb_users, N)\n",
        "\n",
        "predictions = pd.concat([msk_predictions, spb_predictions])"
      ],
      "id": "4fe42863",
      "execution_count": 24,
      "outputs": [
        {
          "output_type": "error",
          "ename": "RuntimeError",
          "evalue": "ignored",
          "traceback": [
            "\u001b[0;31m---------------------------------------------------------------------------\u001b[0m",
            "\u001b[0;31mRuntimeError\u001b[0m                              Traceback (most recent call last)",
            "\u001b[0;32m<ipython-input-24-f05c9ee2083d>\u001b[0m in \u001b[0;36m<module>\u001b[0;34m()\u001b[0m\n\u001b[0;32m----> 1\u001b[0;31m \u001b[0mget_ipython\u001b[0m\u001b[0;34m(\u001b[0m\u001b[0;34m)\u001b[0m\u001b[0;34m.\u001b[0m\u001b[0mrun_cell_magic\u001b[0m\u001b[0;34m(\u001b[0m\u001b[0;34m'time'\u001b[0m\u001b[0;34m,\u001b[0m \u001b[0;34m''\u001b[0m\u001b[0;34m,\u001b[0m \u001b[0;34m\"\\nimport implicit\\n\\ndef make_predictions(interactions, X_test, N):\\n    '''\\n    make_predictions(interactions, X_test, N)\\n        Делает рекомендации для пользователей из <X_test> на основе матрицы взаимодействий. \\n        \\n        Parameters\\n        ----------\\n        interactions : scipy.sparse.csr_matrix\\n            Разреженная матрица взаимодействий.\\n            \\n        X_test : pd.DataFrame\\n            Набор тестовых пользователей, для которых нужно сделать рекомендации. \\n        \\n        N : int\\n            Число рекомендаций для каждого пользователя. \\n        \\n        Returns\\n        -------\\n        predictions : pd.DataFrame\\n            DataFrame с колонками <user_id> и <target>. \\n            В <target> содержится список рекомендованных для пользователя org_id.\\n        \\n        \\n    '''\\n    \\n    predictions = X_test[['user_id']].copy()\\n    predictions['target'] = pd.Series(dtype=object)\\n    predictions = predictions.set_index('user_id')\\n    \\n    interactions, (train_users_len, inner_orgs_len), mappings = interactions\\n    (idx_to_uid, uid_to_idx), (idx_to_oid, oid_to_idx) = mappings\\n\\n    base_model = implicit.als.AlternatingLeastSquares(\\n        factors=5, \\n        iterations=75, \\n        regularization=0.05, \\n        random_state=42\\n    )\\n    \\n    base_m...\n\u001b[0m",
            "\u001b[0;32m/usr/local/lib/python3.7/dist-packages/IPython/core/interactiveshell.py\u001b[0m in \u001b[0;36mrun_cell_magic\u001b[0;34m(self, magic_name, line, cell)\u001b[0m\n\u001b[1;32m   2115\u001b[0m             \u001b[0mmagic_arg_s\u001b[0m \u001b[0;34m=\u001b[0m \u001b[0mself\u001b[0m\u001b[0;34m.\u001b[0m\u001b[0mvar_expand\u001b[0m\u001b[0;34m(\u001b[0m\u001b[0mline\u001b[0m\u001b[0;34m,\u001b[0m \u001b[0mstack_depth\u001b[0m\u001b[0;34m)\u001b[0m\u001b[0;34m\u001b[0m\u001b[0;34m\u001b[0m\u001b[0m\n\u001b[1;32m   2116\u001b[0m             \u001b[0;32mwith\u001b[0m \u001b[0mself\u001b[0m\u001b[0;34m.\u001b[0m\u001b[0mbuiltin_trap\u001b[0m\u001b[0;34m:\u001b[0m\u001b[0;34m\u001b[0m\u001b[0;34m\u001b[0m\u001b[0m\n\u001b[0;32m-> 2117\u001b[0;31m                 \u001b[0mresult\u001b[0m \u001b[0;34m=\u001b[0m \u001b[0mfn\u001b[0m\u001b[0;34m(\u001b[0m\u001b[0mmagic_arg_s\u001b[0m\u001b[0;34m,\u001b[0m \u001b[0mcell\u001b[0m\u001b[0;34m)\u001b[0m\u001b[0;34m\u001b[0m\u001b[0;34m\u001b[0m\u001b[0m\n\u001b[0m\u001b[1;32m   2118\u001b[0m             \u001b[0;32mreturn\u001b[0m \u001b[0mresult\u001b[0m\u001b[0;34m\u001b[0m\u001b[0;34m\u001b[0m\u001b[0m\n\u001b[1;32m   2119\u001b[0m \u001b[0;34m\u001b[0m\u001b[0m\n",
            "\u001b[0;32m<decorator-gen-53>\u001b[0m in \u001b[0;36mtime\u001b[0;34m(self, line, cell, local_ns)\u001b[0m\n",
            "\u001b[0;32m/usr/local/lib/python3.7/dist-packages/IPython/core/magic.py\u001b[0m in \u001b[0;36m<lambda>\u001b[0;34m(f, *a, **k)\u001b[0m\n\u001b[1;32m    186\u001b[0m     \u001b[0;31m# but it's overkill for just that one bit of state.\u001b[0m\u001b[0;34m\u001b[0m\u001b[0;34m\u001b[0m\u001b[0;34m\u001b[0m\u001b[0m\n\u001b[1;32m    187\u001b[0m     \u001b[0;32mdef\u001b[0m \u001b[0mmagic_deco\u001b[0m\u001b[0;34m(\u001b[0m\u001b[0marg\u001b[0m\u001b[0;34m)\u001b[0m\u001b[0;34m:\u001b[0m\u001b[0;34m\u001b[0m\u001b[0;34m\u001b[0m\u001b[0m\n\u001b[0;32m--> 188\u001b[0;31m         \u001b[0mcall\u001b[0m \u001b[0;34m=\u001b[0m \u001b[0;32mlambda\u001b[0m \u001b[0mf\u001b[0m\u001b[0;34m,\u001b[0m \u001b[0;34m*\u001b[0m\u001b[0ma\u001b[0m\u001b[0;34m,\u001b[0m \u001b[0;34m**\u001b[0m\u001b[0mk\u001b[0m\u001b[0;34m:\u001b[0m \u001b[0mf\u001b[0m\u001b[0;34m(\u001b[0m\u001b[0;34m*\u001b[0m\u001b[0ma\u001b[0m\u001b[0;34m,\u001b[0m \u001b[0;34m**\u001b[0m\u001b[0mk\u001b[0m\u001b[0;34m)\u001b[0m\u001b[0;34m\u001b[0m\u001b[0;34m\u001b[0m\u001b[0m\n\u001b[0m\u001b[1;32m    189\u001b[0m \u001b[0;34m\u001b[0m\u001b[0m\n\u001b[1;32m    190\u001b[0m         \u001b[0;32mif\u001b[0m \u001b[0mcallable\u001b[0m\u001b[0;34m(\u001b[0m\u001b[0marg\u001b[0m\u001b[0;34m)\u001b[0m\u001b[0;34m:\u001b[0m\u001b[0;34m\u001b[0m\u001b[0;34m\u001b[0m\u001b[0m\n",
            "\u001b[0;32m/usr/local/lib/python3.7/dist-packages/IPython/core/magics/execution.py\u001b[0m in \u001b[0;36mtime\u001b[0;34m(self, line, cell, local_ns)\u001b[0m\n\u001b[1;32m   1191\u001b[0m         \u001b[0;32melse\u001b[0m\u001b[0;34m:\u001b[0m\u001b[0;34m\u001b[0m\u001b[0;34m\u001b[0m\u001b[0m\n\u001b[1;32m   1192\u001b[0m             \u001b[0mst\u001b[0m \u001b[0;34m=\u001b[0m \u001b[0mclock2\u001b[0m\u001b[0;34m(\u001b[0m\u001b[0;34m)\u001b[0m\u001b[0;34m\u001b[0m\u001b[0;34m\u001b[0m\u001b[0m\n\u001b[0;32m-> 1193\u001b[0;31m             \u001b[0mexec\u001b[0m\u001b[0;34m(\u001b[0m\u001b[0mcode\u001b[0m\u001b[0;34m,\u001b[0m \u001b[0mglob\u001b[0m\u001b[0;34m,\u001b[0m \u001b[0mlocal_ns\u001b[0m\u001b[0;34m)\u001b[0m\u001b[0;34m\u001b[0m\u001b[0;34m\u001b[0m\u001b[0m\n\u001b[0m\u001b[1;32m   1194\u001b[0m             \u001b[0mend\u001b[0m \u001b[0;34m=\u001b[0m \u001b[0mclock2\u001b[0m\u001b[0;34m(\u001b[0m\u001b[0;34m)\u001b[0m\u001b[0;34m\u001b[0m\u001b[0;34m\u001b[0m\u001b[0m\n\u001b[1;32m   1195\u001b[0m             \u001b[0mout\u001b[0m \u001b[0;34m=\u001b[0m \u001b[0;32mNone\u001b[0m\u001b[0;34m\u001b[0m\u001b[0;34m\u001b[0m\u001b[0m\n",
            "\u001b[0;32m<timed exec>\u001b[0m in \u001b[0;36m<module>\u001b[0;34m()\u001b[0m\n",
            "\u001b[0;32m<timed exec>\u001b[0m in \u001b[0;36mmake_predictions\u001b[0;34m(interactions, X_test, N)\u001b[0m\n",
            "\u001b[0;32m/usr/local/lib/python3.7/dist-packages/implicit/als.py\u001b[0m in \u001b[0;36mAlternatingLeastSquares\u001b[0;34m(factors, regularization, dtype, use_native, use_cg, use_gpu, iterations, calculate_training_loss, num_threads, random_state)\u001b[0m\n\u001b[1;32m     60\u001b[0m             \u001b[0miterations\u001b[0m\u001b[0;34m=\u001b[0m\u001b[0miterations\u001b[0m\u001b[0;34m,\u001b[0m\u001b[0;34m\u001b[0m\u001b[0;34m\u001b[0m\u001b[0m\n\u001b[1;32m     61\u001b[0m             \u001b[0mcalculate_training_loss\u001b[0m\u001b[0;34m=\u001b[0m\u001b[0mcalculate_training_loss\u001b[0m\u001b[0;34m,\u001b[0m\u001b[0;34m\u001b[0m\u001b[0;34m\u001b[0m\u001b[0m\n\u001b[0;32m---> 62\u001b[0;31m             \u001b[0mrandom_state\u001b[0m\u001b[0;34m=\u001b[0m\u001b[0mrandom_state\u001b[0m\u001b[0;34m,\u001b[0m\u001b[0;34m\u001b[0m\u001b[0;34m\u001b[0m\u001b[0m\n\u001b[0m\u001b[1;32m     63\u001b[0m         )\n\u001b[1;32m     64\u001b[0m     \u001b[0;32melse\u001b[0m\u001b[0;34m:\u001b[0m\u001b[0;34m\u001b[0m\u001b[0;34m\u001b[0m\u001b[0m\n",
            "\u001b[0;32m/usr/local/lib/python3.7/dist-packages/implicit/gpu/als.py\u001b[0m in \u001b[0;36m__init__\u001b[0;34m(self, factors, regularization, iterations, calculate_training_loss, random_state)\u001b[0m\n\u001b[1;32m     55\u001b[0m             \u001b[0;32mraise\u001b[0m \u001b[0mValueError\u001b[0m\u001b[0;34m(\u001b[0m\u001b[0;34m\"No CUDA extension has been built, can't train on GPU.\"\u001b[0m\u001b[0;34m)\u001b[0m\u001b[0;34m\u001b[0m\u001b[0;34m\u001b[0m\u001b[0m\n\u001b[1;32m     56\u001b[0m \u001b[0;34m\u001b[0m\u001b[0m\n\u001b[0;32m---> 57\u001b[0;31m         \u001b[0msuper\u001b[0m\u001b[0;34m(\u001b[0m\u001b[0mAlternatingLeastSquares\u001b[0m\u001b[0;34m,\u001b[0m \u001b[0mself\u001b[0m\u001b[0;34m)\u001b[0m\u001b[0;34m.\u001b[0m\u001b[0m__init__\u001b[0m\u001b[0;34m(\u001b[0m\u001b[0;34m)\u001b[0m\u001b[0;34m\u001b[0m\u001b[0;34m\u001b[0m\u001b[0m\n\u001b[0m\u001b[1;32m     58\u001b[0m \u001b[0;34m\u001b[0m\u001b[0m\n\u001b[1;32m     59\u001b[0m         \u001b[0;31m# parameters on how to factorize\u001b[0m\u001b[0;34m\u001b[0m\u001b[0;34m\u001b[0m\u001b[0;34m\u001b[0m\u001b[0m\n",
            "\u001b[0;32m/usr/local/lib/python3.7/dist-packages/implicit/gpu/matrix_factorization_base.py\u001b[0m in \u001b[0;36m__init__\u001b[0;34m(self)\u001b[0m\n\u001b[1;32m     27\u001b[0m         \u001b[0mself\u001b[0m\u001b[0;34m.\u001b[0m\u001b[0m_item_norms\u001b[0m \u001b[0;34m=\u001b[0m \u001b[0;32mNone\u001b[0m\u001b[0;34m\u001b[0m\u001b[0;34m\u001b[0m\u001b[0m\n\u001b[1;32m     28\u001b[0m         \u001b[0mself\u001b[0m\u001b[0;34m.\u001b[0m\u001b[0m_user_norms\u001b[0m \u001b[0;34m=\u001b[0m \u001b[0;32mNone\u001b[0m\u001b[0;34m\u001b[0m\u001b[0;34m\u001b[0m\u001b[0m\n\u001b[0;32m---> 29\u001b[0;31m         \u001b[0mself\u001b[0m\u001b[0;34m.\u001b[0m\u001b[0m_knn\u001b[0m \u001b[0;34m=\u001b[0m \u001b[0mimplicit\u001b[0m\u001b[0;34m.\u001b[0m\u001b[0mgpu\u001b[0m\u001b[0;34m.\u001b[0m\u001b[0mKnnQuery\u001b[0m\u001b[0;34m(\u001b[0m\u001b[0;34m)\u001b[0m\u001b[0;34m\u001b[0m\u001b[0;34m\u001b[0m\u001b[0m\n\u001b[0m\u001b[1;32m     30\u001b[0m \u001b[0;34m\u001b[0m\u001b[0m\n\u001b[1;32m     31\u001b[0m     def recommend(\n",
            "\u001b[0;32mimplicit/gpu/_cuda.pyx\u001b[0m in \u001b[0;36mimplicit.gpu._cuda.KnnQuery.__cinit__\u001b[0;34m()\u001b[0m\n",
            "\u001b[0;31mRuntimeError\u001b[0m: Cuda Error: no CUDA-capable device is detected (implicit/gpu/device_buffer.cu:12)"
          ]
        }
      ]
    },
    {
      "cell_type": "code",
      "metadata": {
        "id": "9f561a62",
        "outputId": "698d69b6-ec78-4ed9-c08c-5987678d3623",
        "colab": {
          "base_uri": "https://localhost:8080/"
        }
      },
      "source": [
        "%%time\n",
        "\n",
        "print_score(MNAP_N(y_test, predictions))"
      ],
      "id": "9f561a62",
      "execution_count": 32,
      "outputs": [
        {
          "output_type": "stream",
          "name": "stdout",
          "text": [
            "Score: 5.77\n",
            "CPU times: user 1.43 s, sys: 4.88 ms, total: 1.43 s\n",
            "Wall time: 1.43 s\n"
          ]
        }
      ]
    },
    {
      "cell_type": "markdown",
      "metadata": {
        "id": "8fbaf3c0"
      },
      "source": [
        "# Submission\n",
        "\n",
        "Выберем лучший метод на валидации, переобучим его на всей выборке и сделаем предсказание на тестовой выборке. "
      ],
      "id": "8fbaf3c0"
    },
    {
      "cell_type": "markdown",
      "metadata": {
        "id": "d4c3b048"
      },
      "source": [
        "## Without ML"
      ],
      "id": "d4c3b048"
    },
    {
      "cell_type": "code",
      "metadata": {
        "id": "6d27e2b0"
      },
      "source": [
        "# набор отзывов только от туристов\n",
        "tourist_reviews = reviews[reviews['rating'] >= 4.0]\n",
        "tourist_reviews = tourist_reviews[tourist_reviews['user_city'] != tourist_reviews['org_city']]\n",
        "\n",
        "# выбираем самые популярные места среди туристов из Москвы и Питера\n",
        "msk_orgs = tourist_reviews[tourist_reviews['org_city'] == 'msk']['org_id']\n",
        "msk_orgs = msk_orgs.value_counts().index[:N].to_list()\n",
        "\n",
        "spb_orgs = tourist_reviews[tourist_reviews['org_city'] == 'spb']['org_id']\n",
        "spb_orgs = spb_orgs.value_counts().index[:N].to_list()\n",
        "\n",
        "msk_orgs = str(' '.join(map(str, msk_orgs)))\n",
        "spb_orgs = str(' '.join(map(str, spb_orgs)))"
      ],
      "id": "6d27e2b0",
      "execution_count": 35,
      "outputs": []
    },
    {
      "cell_type": "code",
      "metadata": {
        "id": "a3ac7639"
      },
      "source": [
        "test_users = pd.read_csv('/content/drive/MyDrive/YCup2021[recsys]/test_users.csv')\n",
        "test_users['city'] = test_users.merge(users, on='user_id')['city']"
      ],
      "id": "a3ac7639",
      "execution_count": 36,
      "outputs": []
    },
    {
      "cell_type": "code",
      "metadata": {
        "id": "72f23e9d",
        "outputId": "e5cec2cc-e811-45ab-e068-6b3e1818c369",
        "colab": {
          "base_uri": "https://localhost:8080/",
          "height": 204
        }
      },
      "source": [
        "choose = lambda x: spb_orgs if x['city'] == 'msk' else msk_orgs\n",
        "target = test_users.apply(choose, axis=1)\n",
        "\n",
        "predictions = test_users[['user_id']]\n",
        "predictions['target'] = target\n",
        "\n",
        "predictions.head()"
      ],
      "id": "72f23e9d",
      "execution_count": 37,
      "outputs": [
        {
          "output_type": "execute_result",
          "data": {
            "text/html": [
              "<div>\n",
              "<style scoped>\n",
              "    .dataframe tbody tr th:only-of-type {\n",
              "        vertical-align: middle;\n",
              "    }\n",
              "\n",
              "    .dataframe tbody tr th {\n",
              "        vertical-align: top;\n",
              "    }\n",
              "\n",
              "    .dataframe thead th {\n",
              "        text-align: right;\n",
              "    }\n",
              "</style>\n",
              "<table border=\"1\" class=\"dataframe\">\n",
              "  <thead>\n",
              "    <tr style=\"text-align: right;\">\n",
              "      <th></th>\n",
              "      <th>user_id</th>\n",
              "      <th>target</th>\n",
              "    </tr>\n",
              "  </thead>\n",
              "  <tbody>\n",
              "    <tr>\n",
              "      <th>0</th>\n",
              "      <td>3545210947248911048</td>\n",
              "      <td>12046097390037935713 5002407858008059043 14814...</td>\n",
              "    </tr>\n",
              "    <tr>\n",
              "      <th>1</th>\n",
              "      <td>15271987121288045390</td>\n",
              "      <td>12046097390037935713 5002407858008059043 14814...</td>\n",
              "    </tr>\n",
              "    <tr>\n",
              "      <th>2</th>\n",
              "      <td>15016858616184265932</td>\n",
              "      <td>12046097390037935713 5002407858008059043 14814...</td>\n",
              "    </tr>\n",
              "    <tr>\n",
              "      <th>3</th>\n",
              "      <td>12457244142928722989</td>\n",
              "      <td>12046097390037935713 5002407858008059043 14814...</td>\n",
              "    </tr>\n",
              "    <tr>\n",
              "      <th>4</th>\n",
              "      <td>13339684649926251468</td>\n",
              "      <td>15250345250621165867 13573322486152844808 9104...</td>\n",
              "    </tr>\n",
              "  </tbody>\n",
              "</table>\n",
              "</div>"
            ],
            "text/plain": [
              "                user_id                                             target\n",
              "0   3545210947248911048  12046097390037935713 5002407858008059043 14814...\n",
              "1  15271987121288045390  12046097390037935713 5002407858008059043 14814...\n",
              "2  15016858616184265932  12046097390037935713 5002407858008059043 14814...\n",
              "3  12457244142928722989  12046097390037935713 5002407858008059043 14814...\n",
              "4  13339684649926251468  15250345250621165867 13573322486152844808 9104..."
            ]
          },
          "metadata": {},
          "execution_count": 37
        }
      ]
    },
    {
      "cell_type": "code",
      "metadata": {
        "id": "fab92407"
      },
      "source": [
        "predictions.to_csv('answers.csv', index=None)"
      ],
      "id": "fab92407",
      "execution_count": 38,
      "outputs": []
    },
    {
      "cell_type": "markdown",
      "metadata": {
        "id": "a32360f4"
      },
      "source": [
        "## With ML"
      ],
      "id": "a32360f4"
    },
    {
      "cell_type": "code",
      "metadata": {
        "id": "c6362223",
        "outputId": "66aaf0c1-65d0-4eb9-9212-09ea505a0d53",
        "colab": {
          "base_uri": "https://localhost:8080/",
          "height": 297,
          "referenced_widgets": [
            "1a6238e2d68a49f69d0e8c2fb66f4f71",
            "091e3e2821934f33bdb5dc8182d98420",
            "ea1a98796fe241a7af6d71b881e13db6",
            "f6446f27ac524ebb801a50dbc8720856",
            "03c4a4093b5f45f0a897552cb8df6e67",
            "787f1c6385004f97ba8d9299071fca08",
            "665622bcb7ca4264a415de224f48abf7",
            "2a4b955f0b1944958e8bca200c3ce118",
            "13f945a4a89c4b74a3ec0d38325f324e",
            "7380a6fe9e12480ba2c4aa19d4a22c0a",
            "98e137bdf4564852b8248be14e31447a"
          ]
        }
      },
      "source": [
        "test_users = pd.read_csv('/content/drive/MyDrive/YCup2021[recsys]/test_users.csv')\n",
        "test_users = test_users.merge(users, on='user_id')\n",
        "\n",
        "\n",
        "test_msk_users = test_users[test_users['city'] == 'msk'][['user_id', 'city']]\n",
        "test_spb_users = test_users[test_users['city'] == 'spb'][['user_id', 'city']]\n",
        "\n",
        "\n",
        "msk_interactions = interaction_matrix(\n",
        "    reviews[reviews['user_city'] == 'msk'],\n",
        "    test_msk_users\n",
        ")\n",
        "\n",
        "spb_interactions = interaction_matrix(\n",
        "    reviews[reviews['user_city'] == 'spb'],\n",
        "    test_spb_users\n",
        ")\n",
        "\n",
        "msk_predictions = make_predictions(msk_interactions, test_msk_users, N)\n",
        "spb_predictions = make_predictions(spb_interactions, test_spb_users, N)\n",
        "\n",
        "predictions = pd.concat([msk_predictions, spb_predictions])"
      ],
      "id": "c6362223",
      "execution_count": 39,
      "outputs": [
        {
          "output_type": "display_data",
          "data": {
            "application/vnd.jupyter.widget-view+json": {
              "model_id": "1a6238e2d68a49f69d0e8c2fb66f4f71",
              "version_minor": 0,
              "version_major": 2
            },
            "text/plain": [
              "  0%|          | 0/75 [00:00<?, ?it/s]"
            ]
          },
          "metadata": {}
        },
        {
          "output_type": "error",
          "ename": "AttributeError",
          "evalue": "ignored",
          "traceback": [
            "\u001b[0;31m---------------------------------------------------------------------------\u001b[0m",
            "\u001b[0;31mAttributeError\u001b[0m                            Traceback (most recent call last)",
            "\u001b[0;32m<ipython-input-39-52c2b629386f>\u001b[0m in \u001b[0;36m<module>\u001b[0;34m()\u001b[0m\n\u001b[1;32m     17\u001b[0m )\n\u001b[1;32m     18\u001b[0m \u001b[0;34m\u001b[0m\u001b[0m\n\u001b[0;32m---> 19\u001b[0;31m \u001b[0mmsk_predictions\u001b[0m \u001b[0;34m=\u001b[0m \u001b[0mmake_predictions\u001b[0m\u001b[0;34m(\u001b[0m\u001b[0mmsk_interactions\u001b[0m\u001b[0;34m,\u001b[0m \u001b[0mtest_msk_users\u001b[0m\u001b[0;34m,\u001b[0m \u001b[0mN\u001b[0m\u001b[0;34m)\u001b[0m\u001b[0;34m\u001b[0m\u001b[0;34m\u001b[0m\u001b[0m\n\u001b[0m\u001b[1;32m     20\u001b[0m \u001b[0mspb_predictions\u001b[0m \u001b[0;34m=\u001b[0m \u001b[0mmake_predictions\u001b[0m\u001b[0;34m(\u001b[0m\u001b[0mspb_interactions\u001b[0m\u001b[0;34m,\u001b[0m \u001b[0mtest_spb_users\u001b[0m\u001b[0;34m,\u001b[0m \u001b[0mN\u001b[0m\u001b[0;34m)\u001b[0m\u001b[0;34m\u001b[0m\u001b[0;34m\u001b[0m\u001b[0m\n\u001b[1;32m     21\u001b[0m \u001b[0;34m\u001b[0m\u001b[0m\n",
            "\u001b[0;32m<timed exec>\u001b[0m in \u001b[0;36mmake_predictions\u001b[0;34m(interactions, X_test, N)\u001b[0m\n",
            "\u001b[0;31mAttributeError\u001b[0m: 'AlternatingLeastSquares' object has no attribute 'recommend_all'"
          ]
        }
      ]
    },
    {
      "cell_type": "code",
      "metadata": {
        "id": "85617a3a",
        "outputId": "6380e00a-dd97-4a0e-fb2d-96cfa0ef6788",
        "colab": {
          "base_uri": "https://localhost:8080/",
          "height": 204
        }
      },
      "source": [
        "predictions['target'] = predictions['target'].apply(lambda orgs: ' '.join(map(str, orgs)))\n",
        "predictions.head()"
      ],
      "id": "85617a3a",
      "execution_count": 40,
      "outputs": [
        {
          "output_type": "execute_result",
          "data": {
            "text/html": [
              "<div>\n",
              "<style scoped>\n",
              "    .dataframe tbody tr th:only-of-type {\n",
              "        vertical-align: middle;\n",
              "    }\n",
              "\n",
              "    .dataframe tbody tr th {\n",
              "        vertical-align: top;\n",
              "    }\n",
              "\n",
              "    .dataframe thead th {\n",
              "        text-align: right;\n",
              "    }\n",
              "</style>\n",
              "<table border=\"1\" class=\"dataframe\">\n",
              "  <thead>\n",
              "    <tr style=\"text-align: right;\">\n",
              "      <th></th>\n",
              "      <th>user_id</th>\n",
              "      <th>target</th>\n",
              "    </tr>\n",
              "  </thead>\n",
              "  <tbody>\n",
              "    <tr>\n",
              "      <th>0</th>\n",
              "      <td>3545210947248911048</td>\n",
              "      <td>1 2 0 4 6 0 9 7 3 9 0 0 3 7 9 3 5 7 1 3   5 0 ...</td>\n",
              "    </tr>\n",
              "    <tr>\n",
              "      <th>1</th>\n",
              "      <td>15271987121288045390</td>\n",
              "      <td>1 2 0 4 6 0 9 7 3 9 0 0 3 7 9 3 5 7 1 3   5 0 ...</td>\n",
              "    </tr>\n",
              "    <tr>\n",
              "      <th>2</th>\n",
              "      <td>15016858616184265932</td>\n",
              "      <td>1 2 0 4 6 0 9 7 3 9 0 0 3 7 9 3 5 7 1 3   5 0 ...</td>\n",
              "    </tr>\n",
              "    <tr>\n",
              "      <th>3</th>\n",
              "      <td>12457244142928722989</td>\n",
              "      <td>1 2 0 4 6 0 9 7 3 9 0 0 3 7 9 3 5 7 1 3   5 0 ...</td>\n",
              "    </tr>\n",
              "    <tr>\n",
              "      <th>4</th>\n",
              "      <td>13339684649926251468</td>\n",
              "      <td>1 5 2 5 0 3 4 5 2 5 0 6 2 1 1 6 5 8 6 7   1 3 ...</td>\n",
              "    </tr>\n",
              "  </tbody>\n",
              "</table>\n",
              "</div>"
            ],
            "text/plain": [
              "                user_id                                             target\n",
              "0   3545210947248911048  1 2 0 4 6 0 9 7 3 9 0 0 3 7 9 3 5 7 1 3   5 0 ...\n",
              "1  15271987121288045390  1 2 0 4 6 0 9 7 3 9 0 0 3 7 9 3 5 7 1 3   5 0 ...\n",
              "2  15016858616184265932  1 2 0 4 6 0 9 7 3 9 0 0 3 7 9 3 5 7 1 3   5 0 ...\n",
              "3  12457244142928722989  1 2 0 4 6 0 9 7 3 9 0 0 3 7 9 3 5 7 1 3   5 0 ...\n",
              "4  13339684649926251468  1 5 2 5 0 3 4 5 2 5 0 6 2 1 1 6 5 8 6 7   1 3 ..."
            ]
          },
          "metadata": {},
          "execution_count": 40
        }
      ]
    },
    {
      "cell_type": "code",
      "metadata": {
        "id": "07e2e5c0"
      },
      "source": [
        "predictions.to_csv('answers_ml.csv', index=None)"
      ],
      "id": "07e2e5c0",
      "execution_count": 41,
      "outputs": []
    },
    {
      "cell_type": "code",
      "metadata": {
        "id": "Fvs8QWhmD78Y"
      },
      "source": [
        ""
      ],
      "id": "Fvs8QWhmD78Y",
      "execution_count": null,
      "outputs": []
    }
  ]
}